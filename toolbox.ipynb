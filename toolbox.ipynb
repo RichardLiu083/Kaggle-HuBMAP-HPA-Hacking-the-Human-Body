{
 "cells": [
  {
   "cell_type": "code",
   "execution_count": null,
   "id": "e94ab4fc",
   "metadata": {},
   "outputs": [],
   "source": [
    "import os\n",
    "import numpy as np\n",
    "import matplotlib.pyplot as plt\n",
    "import glob\n",
    "from PIL import Image\n",
    "import tifffile\n",
    "import pandas as pd\n",
    "import json"
   ]
  },
  {
   "cell_type": "code",
   "execution_count": null,
   "id": "5e1cd670",
   "metadata": {},
   "outputs": [],
   "source": [
    "train_df= pd.read_csv('Data/train.csv')\n",
    "train_df['image_path']= None\n",
    "for i in range(len(train_df)):\n",
    "    name= train_df.loc[i, 'id']\n",
    "    path= f'Data/train_images/{name}.tiff'\n",
    "    train_df.loc[i, 'image_path']= path\n",
    "train_df.head(3)"
   ]
  },
  {
   "cell_type": "code",
   "execution_count": null,
   "id": "b39d9eff",
   "metadata": {},
   "outputs": [],
   "source": [
    "from sklearn.model_selection import KFold,StratifiedKFold\n",
    "\n",
    "train_df['fold']= None\n",
    "kf= StratifiedKFold(n_splits=5, random_state=123, shuffle=True)\n",
    "for i, (train_index, test_index) in enumerate(kf.split(train_df['image_path'], train_df['organ'])):\n",
    "    for indx in test_index:\n",
    "        train_df.loc[indx, 'fold']= i\n",
    "        \n",
    "train_df.to_csv('train.csv', index=False)\n",
    "train_df.head(3)"
   ]
  },
  {
   "cell_type": "code",
   "execution_count": null,
   "id": "b41f10af",
   "metadata": {},
   "outputs": [],
   "source": [
    "train_df['organ'].hist()"
   ]
  },
  {
   "cell_type": "code",
   "execution_count": null,
   "id": "6be78115",
   "metadata": {},
   "outputs": [],
   "source": [
    "train_df= pd.read_csv('Data/train.csv')\n",
    "img_size= train_df[['img_height', 'img_width']].values.tolist()\n",
    "img_size= list(set([tuple(ti) for ti in img_size]))\n",
    "img_size"
   ]
  },
  {
   "cell_type": "code",
   "execution_count": null,
   "id": "5d0967fa",
   "metadata": {
    "scrolled": true
   },
   "outputs": [],
   "source": [
    "def mask2rle(img):\n",
    "    '''\n",
    "    img: numpy array, 1 - mask, 0 - background\n",
    "    Returns run length as string formated\n",
    "    '''\n",
    "    pixels= img.T.flatten()\n",
    "    pixels = np.concatenate([[0], pixels, [0]])\n",
    "    runs = np.where(pixels[1:] != pixels[:-1])[0] + 1\n",
    "    runs[1::2] -= runs[::2]\n",
    "    return ' '.join(str(x) for x in runs)\n",
    "\n",
    "def rle_decode(mask_rle, shape, color=1):\n",
    "    '''\n",
    "    mask_rle: run-length as string formated (start length)\n",
    "    shape: (height,width) of array to return \n",
    "    Returns numpy array, 1 - mask, 0 - background\n",
    "    '''\n",
    "    s = mask_rle.split()\n",
    "    starts, lengths = [np.asarray(x, dtype=int) for x in (s[0:][::2], s[1:][::2])]\n",
    "    starts -= 1\n",
    "    ends = starts + lengths\n",
    "    img = np.zeros(shape[0] * shape[1], dtype=np.float32)\n",
    "    for lo, hi in zip(starts, ends):\n",
    "        img[lo : hi] = color\n",
    "    return img.reshape(shape).T\n",
    "\n",
    "\n",
    "# for i in range(3):\n",
    "#     name= train_df.loc[i, 'id']\n",
    "#     path= f'Data/train_images/{name}.tiff'\n",
    "#     img= np.array(Image.open(path))\n",
    "#     rle= train_df.loc[i, 'rle']\n",
    "#     mask= rle_decode(rle, img.shape[:2])\n",
    "    \n",
    "#     plt.imshow(img)\n",
    "#     plt.show()\n",
    "#     plt.imshow(mask)\n",
    "#     plt.show()\n",
    "#     mix= (img[..., 0] + mask*255)/2\n",
    "#     plt.imshow(mix.astype(np.uint8))\n",
    "#     plt.show()"
   ]
  },
  {
   "cell_type": "markdown",
   "id": "0030b165",
   "metadata": {},
   "source": [
    "# EX_Data"
   ]
  },
  {
   "cell_type": "code",
   "execution_count": null,
   "id": "f287e3fc",
   "metadata": {
    "scrolled": true
   },
   "outputs": [],
   "source": [
    "from tifffile import imread\n",
    "import cv2\n",
    "from tqdm.auto import tqdm\n",
    "\n",
    "def rle_decode(mask_rle, shape=(1600,256)):\n",
    "    '''\n",
    "    mask_rle: run-length as string formated (start length)\n",
    "    shape: (width,height) of array to return \n",
    "    Returns numpy array, 1 - mask, 0 - background\n",
    "\n",
    "    '''\n",
    "    s = mask_rle.split()\n",
    "    starts, lengths = [np.asarray(x, dtype=int) for x in (s[0:][::2], s[1:][::2])]\n",
    "    starts -= 1\n",
    "    ends = starts + lengths\n",
    "    img = np.zeros(shape[0]*shape[1], dtype=np.uint8)\n",
    "    for lo, hi in zip(starts, ends):\n",
    "        img[lo:hi] = 1\n",
    "    return img.reshape(shape).T\n",
    "\n",
    "\n",
    "img_path= glob.glob('Data/train_images_ex/**/*png', recursive=True)\n",
    "mask_path= glob.glob('Data/train_mask_ex/**/*png', recursive=True)\n",
    "train_df= pd.read_csv('Data/train.csv')\n",
    "df= pd.DataFrame(columns= train_df.columns)\n",
    "df['data_source']= 'Hubmap'\n",
    "df['fold']= -1\n",
    "df['rle']= ''\n",
    "\n",
    "for i in tqdm(range(len(mask_path))):\n",
    "    path= img_path[i]\n",
    "    mask= np.array(Image.open(mask_path[i]))\n",
    "    df.loc[i, 'image_path']= path\n",
    "    df.loc[i, 'rle']= mask2rle(mask)\n",
    "df.to_csv('Data/train_ex.csv', index= False)\n",
    "df"
   ]
  },
  {
   "cell_type": "code",
   "execution_count": null,
   "id": "1c3e7348",
   "metadata": {},
   "outputs": [],
   "source": [
    "from tifffile import imread\n",
    "from tqdm import tqdm\n",
    "\n",
    "def rle_decode(mask_rle, shape=(1600,256)):\n",
    "    '''\n",
    "    mask_rle: run-length as string formated (start length)\n",
    "    shape: (width,height) of array to return \n",
    "    Returns numpy array, 1 - mask, 0 - background\n",
    "\n",
    "    '''\n",
    "    s = mask_rle.split()\n",
    "    starts, lengths = [np.asarray(x, dtype=int) for x in (s[0:][::2], s[1:][::2])]\n",
    "    starts -= 1\n",
    "    ends = starts + lengths\n",
    "    img = np.zeros(shape[0]*shape[1], dtype=np.uint8)\n",
    "    for lo, hi in zip(starts, ends):\n",
    "        img[lo:hi] = 1\n",
    "    return img.reshape(shape).T\n",
    "\n",
    "def rle_encode(img):\n",
    "    #the image should be transposed\n",
    "    pixels = img.T.flatten()\n",
    "    # This simplified method requires first and last pixel to be zero\n",
    "    pixels[0] = 0\n",
    "    pixels[-1] = 0\n",
    "    runs = np.where(pixels[1:] != pixels[:-1])[0] + 2\n",
    "    runs[1::2] -= runs[::2]\n",
    "    return ' '.join(str(x) for x in runs)\n",
    "\n",
    "\n",
    "df= pd.read_csv('Data/train_images_ex_full/train.csv')\n",
    "df= df.rename(columns= {'encoding': 'rle'})\n",
    "df['image_path']= None\n",
    "df['mask_path']= None\n",
    "\n",
    "for i in tqdm(range(len(df))):\n",
    "    id_= df.loc[i, 'id']\n",
    "    df.loc[i, 'image_path']= f'Data/train_images_ex_full/{id_}.tiff'\n",
    "    rle= df.loc[i, 'rle']\n",
    "    img= imread(df.loc[i, 'image_path'])\n",
    "    mask= rle_decode(rle, shape=img.shape[:2][::-1])\n",
    "    mask*= 255\n",
    "    im= Image.fromarray(mask.astype(np.uint8))\n",
    "    im.save(f'Data/train_mask_ex_full/{id_}.png')\n",
    "    df.loc[i, 'mask_path']= f'Data/train_mask_ex_full/{id_}.png'\n",
    "df= df.drop(['rle'], axis=1)\n",
    "df.to_csv('Data/train_ex_full.csv', index= False)"
   ]
  },
  {
   "cell_type": "code",
   "execution_count": null,
   "id": "50fc0bbc",
   "metadata": {},
   "outputs": [],
   "source": [
    "from tifffile import imread\n",
    "from tqdm import tqdm\n",
    "import cv2\n",
    "\n",
    "imgs= glob.glob('Data/train_ex_1/train_img/**/*tiff', recursive=True)\n",
    "df= pd.DataFrame(columns=('image_path', 'mask_path'))\n",
    "for i, path in enumerate(imgs):\n",
    "    df.loc[i, 'image_path']= path\n",
    "    path= path.replace('train_img', 'train_mask')\n",
    "    path= path.replace('tiff', 'png')\n",
    "    df.loc[i, 'mask_path']= path\n",
    "df.to_csv('Data/ex_data.csv', index=False)"
   ]
  },
  {
   "cell_type": "code",
   "execution_count": null,
   "id": "d47b8fcb",
   "metadata": {},
   "outputs": [],
   "source": [
    "imgs= glob.glob('Data/train_ex_1/train_mask/**/*tiff', recursive=True)\n",
    "for path in imgs:\n",
    "    img= imread(path)\n",
    "    print(img.shape)\n",
    "    im= Image.fromarray(img)\n",
    "    im.save(path.replace('tiff', 'png'))"
   ]
  },
  {
   "cell_type": "markdown",
   "id": "cd039fac",
   "metadata": {},
   "source": [
    "# check tiff read issue"
   ]
  },
  {
   "cell_type": "code",
   "execution_count": null,
   "id": "a6b450a1",
   "metadata": {
    "scrolled": true
   },
   "outputs": [],
   "source": [
    "from tifffile import imread\n",
    "\n",
    "df= pd.read_csv('Data/ex_data_kidney.csv')\n",
    "for path in df['image_path']:\n",
    "    img= imread(path)\n",
    "    img= np.squeeze(img)\n",
    "    if img.shape[0]==3: img= np.transpose(img, (1,2,0))\n",
    "    print(img.shape)\n",
    "    del img"
   ]
  },
  {
   "cell_type": "markdown",
   "id": "6dd0c65f",
   "metadata": {},
   "source": [
    "# stain normalization"
   ]
  },
  {
   "cell_type": "code",
   "execution_count": null,
   "id": "06786546",
   "metadata": {},
   "outputs": [],
   "source": [
    "import staintools\n",
    "from tqdm.auto import tqdm\n",
    "\n",
    "target = staintools.read_image('Data/test_images/10078.tiff')\n",
    "source_img= glob.glob('Data/train_images/**/*tiff', recursive=True)\n",
    "\n",
    "for path in tqdm(source_img[:]):\n",
    "    to_transform = staintools.read_image(path)\n",
    "\n",
    "    # Standardize brightness (optional, can improve the tissue mask calculation)\n",
    "    target = staintools.LuminosityStandardizer.standardize(target)\n",
    "    to_transform = staintools.LuminosityStandardizer.standardize(to_transform)\n",
    "\n",
    "    # Stain normalize\n",
    "    normalizer = staintools.StainNormalizer(method='vahadane')\n",
    "    normalizer.fit(target)\n",
    "    transformed1 = normalizer.transform(to_transform)\n",
    "    \n",
    "    name= path.split('\\\\')[-1]\n",
    "    tifffile.imwrite(f'../Data/{name}', transformed1)"
   ]
  },
  {
   "cell_type": "code",
   "execution_count": null,
   "id": "42c13549",
   "metadata": {},
   "outputs": [],
   "source": [
    "import os\n",
    "import re\n",
    "import glob\n",
    "import cv2\n",
    "import numpy as np\n",
    "import pandas as pd\n",
    "from ipywidgets import interact\n",
    "from PIL import Image\n",
    "from math import ceil\n",
    "from bs4 import BeautifulSoup\n",
    "import requests\n",
    "from io import StringIO, BytesIO\n",
    "from tqdm.auto import tqdm\n",
    "\n",
    "import torch\n",
    "import matplotlib.pyplot as plt\n",
    "import zipfile\n",
    "\n",
    "df = pd.read_csv('Data/GTEx Portal.csv')\n",
    "df.head()"
   ]
  },
  {
   "cell_type": "code",
   "execution_count": null,
   "id": "5129c141",
   "metadata": {},
   "outputs": [],
   "source": [
    "# organ_names = ['Kidney','Prostate','Colon', 'Spleen','Lung']\n",
    "# df_sub = df.loc[df['Tissue'].str.contains('Kidney|Prostate|Colon|Spleen|Lung')]\n",
    "debug = False\n",
    "organ_name = 'Prostate'\n",
    "df_organ = df.loc[df['Tissue'].str.contains(organ_name)]\n",
    "print(df_organ.shape)\n",
    "df_organ.head()"
   ]
  },
  {
   "cell_type": "code",
   "execution_count": null,
   "id": "07555ed5",
   "metadata": {},
   "outputs": [],
   "source": [
    "index = 6\n",
    "count = 10\n",
    "start_index = count*index\n",
    "end_index = count*(index+1)\n",
    "df_organ_sub = df_organ[start_index:end_index]\n",
    "df_organ_sub.shape"
   ]
  },
  {
   "cell_type": "code",
   "execution_count": null,
   "id": "7163c34b",
   "metadata": {},
   "outputs": [],
   "source": [
    "def download_tiff(tissue_sample_id, img_out):\n",
    "    url = f\"https://brd.nci.nih.gov/brd/imagedownload/{tissue_sample_id}\"\n",
    "    r = requests.get(url)\n",
    "    img_out.writestr(f'{tissue_sample_id}.tiff', r.content)\n",
    "    \n",
    "def map_organ(tissue):\n",
    "    organ_name = ''\n",
    "    if 'Kidney' in tissue:\n",
    "         organ_name = 'kidney'\n",
    "    elif 'Colon' in tissue:\n",
    "        organ_name = 'largeintestine'\n",
    "    elif 'Spleen' in tissue:\n",
    "        organ_name = 'spleen'\n",
    "    elif 'Prostate' in tissue:\n",
    "        organ_name = 'prostate'\n",
    "    elif 'Lung' in tissue:\n",
    "        organ_name = 'lung'\n",
    "    else:\n",
    "        print(f'tissue is {tissue}')\n",
    "    return organ_name\n",
    "\n",
    "import matplotlib.pyplot as plt\n",
    "def show_image(img,mask=None):\n",
    "    plt.figure(figsize=(10,10))\n",
    "    plt.imshow(img)\n",
    "    if mask is not None:\n",
    "        plt.imshow(mask, cmap='coolwarm', alpha=0.5)\n",
    "    plt.axis(\"off\")\n",
    "    \n",
    "\n",
    "def show_images(img_list, rows=5, cols=3):\n",
    "    # create the figure\n",
    "    fig, axs = plt.subplots(nrows=rows, ncols=cols, figsize=(20, 20))\n",
    "    # flatten the axis into a 1-d array to make it easier to access each axes\n",
    "    axs = axs.flatten()\n",
    "    # iterate through and enumerate the files, use i to index the axes\n",
    "    for i, img in enumerate(img_list):\n",
    "        # add the image to the axes\n",
    "        axs[i].imshow(img)\n",
    "        # add an axes title; .stem is a pathlib method to get the filename\n",
    "        axs[i].set(title=f'{i:04d}')"
   ]
  },
  {
   "cell_type": "code",
   "execution_count": null,
   "id": "a0ee2ce6",
   "metadata": {},
   "outputs": [],
   "source": [
    "images_out = f'Data/hubmap_external/hubmap_organ_{organ_name}_{start_index}_{end_index}.zip'\n",
    "with zipfile.ZipFile(images_out, 'w') as img_out:\n",
    "    for index, (t, d) in tqdm(enumerate(df_organ_sub.iterrows()),total=df_organ_sub.shape[0]):\n",
    "        tissue_sample_id = d['Tissue Sample ID']\n",
    "        tissue = d['Tissue']\n",
    "        sex = d['Sex']\n",
    "        age_bracket = d['Age Bracket']\n",
    "        organ_name = map_organ(tissue)   \n",
    "        download_tiff(tissue_sample_id, img_out)"
   ]
  },
  {
   "cell_type": "markdown",
   "id": "711ec24b",
   "metadata": {},
   "source": [
    "# Slice Image"
   ]
  },
  {
   "cell_type": "code",
   "execution_count": null,
   "id": "1f2e23e5",
   "metadata": {
    "scrolled": true
   },
   "outputs": [],
   "source": [
    "from tifffile import imread\n",
    "import glob\n",
    "import os\n",
    "from tqdm.auto import tqdm\n",
    "import image_slicer\n",
    "from PIL import Image\n",
    "\n",
    "imgs= glob.glob('Data/train_ex_largeintestine/train_mask_png/**png')\n",
    "t= 0\n",
    "for path in tqdm(imgs[:]):\n",
    "    tiles = image_slicer.slice(path, 4, save=False)\n",
    "    for tile in tiles:\n",
    "        img= np.array(tile.image)\n",
    "        im= Image.fromarray(img)\n",
    "        im.save(f'Data/train_ex_largeintestine/train_mask_tiles/{t+1}.png')\n",
    "        t+= 1"
   ]
  },
  {
   "cell_type": "code",
   "execution_count": null,
   "id": "de315a6d",
   "metadata": {
    "scrolled": true
   },
   "outputs": [],
   "source": [
    "import pandas as pd\n",
    "\n",
    "def rle_encode(img):\n",
    "    #the image should be transposed\n",
    "    pixels = img.T.flatten()\n",
    "    # This simplified method requires first and last pixel to be zero\n",
    "    pixels[0] = 0\n",
    "    pixels[-1] = 0\n",
    "    runs = np.where(pixels[1:] != pixels[:-1])[0] + 2\n",
    "    runs[1::2] -= runs[::2]\n",
    "    return ' '.join(str(x) for x in runs)\n",
    "\n",
    "df= pd.DataFrame(columns=('organ', 'image_path', 'rle',))\n",
    "imgs= glob.glob('Data/train_ex_largeintestine/train_img_tiles/**png')\n",
    "for i, path in enumerate(imgs):\n",
    "    df.loc[i, 'image_path']= path\n",
    "    mask= np.array(Image.open(path.replace('train_img_tiles', 'train_mask_tiles')))\n",
    "    mask= (mask/255).astype(np.uint8)\n",
    "    rle= rle_encode(mask)\n",
    "    df.loc[i, 'rle']= rle\n",
    "    df.loc[i, 'organ']= 'largeintestine'\n",
    "df"
   ]
  },
  {
   "cell_type": "markdown",
   "id": "f529a6ab",
   "metadata": {},
   "source": [
    "# Slice Image kidney"
   ]
  },
  {
   "cell_type": "code",
   "execution_count": null,
   "id": "0f7f951a",
   "metadata": {},
   "outputs": [],
   "source": [
    "from tifffile import imread\n",
    "import glob\n",
    "import os\n",
    "from tqdm.auto import tqdm\n",
    "import image_slicer\n",
    "import numpy as np\n",
    "from PIL import Image\n",
    "Image.MAX_IMAGE_PIXELS = 933120000000\n",
    "\n",
    "imgs= glob.glob('Data/train_ex_kidney/img_png/**png')\n",
    "t= 0\n",
    "for path in tqdm(imgs[:]):\n",
    "    size= Image.open(path).size\n",
    "    col, row= size[0], size[1]\n",
    "    col//= 3000\n",
    "    row//= 3000\n",
    "    tiles = image_slicer.slice(path, col=col, row=row, save=False)\n",
    "    for tile in tiles:\n",
    "        img= np.array(tile.image)\n",
    "        im= Image.fromarray(img)\n",
    "        im.save(f'Data/train_ex_kidney/img_tiles/{t+1}.png')\n",
    "        t+= 1"
   ]
  },
  {
   "cell_type": "code",
   "execution_count": null,
   "id": "f2150652",
   "metadata": {},
   "outputs": [],
   "source": [
    "import pandas as pd\n",
    "from tifffile import imread\n",
    "import glob\n",
    "import os\n",
    "from tqdm.auto import tqdm\n",
    "import image_slicer\n",
    "import numpy as np\n",
    "from PIL import Image\n",
    "\n",
    "def rle_encode(img):\n",
    "    #the image should be transposed\n",
    "    pixels = img.T.flatten()\n",
    "    # This simplified method requires first and last pixel to be zero\n",
    "    pixels[0] = 0\n",
    "    pixels[-1] = 0\n",
    "    runs = np.where(pixels[1:] != pixels[:-1])[0] + 2\n",
    "    runs[1::2] -= runs[::2]\n",
    "    return ' '.join(str(x) for x in runs)\n",
    "\n",
    "df= pd.DataFrame(columns=('organ', 'image_path', 'rle',))\n",
    "imgs= glob.glob('Data/train_ex_kidney/img_tiles/**png')\n",
    "for i, path in enumerate(tqdm(imgs)):\n",
    "    df.loc[i, 'image_path']= path\n",
    "    mask= np.array(Image.open(path.replace('img_tiles', 'mask_tiles')))\n",
    "    mask= (mask/255).astype(np.uint8)\n",
    "    rle= rle_encode(mask)\n",
    "    df.loc[i, 'rle']= rle\n",
    "    df.loc[i, 'organ']= 'kidney'\n",
    "df"
   ]
  }
 ],
 "metadata": {
  "kernelspec": {
   "display_name": "Python 3",
   "language": "python",
   "name": "python3"
  },
  "language_info": {
   "codemirror_mode": {
    "name": "ipython",
    "version": 3
   },
   "file_extension": ".py",
   "mimetype": "text/x-python",
   "name": "python",
   "nbconvert_exporter": "python",
   "pygments_lexer": "ipython3",
   "version": "3.6.9"
  }
 },
 "nbformat": 4,
 "nbformat_minor": 5
}
