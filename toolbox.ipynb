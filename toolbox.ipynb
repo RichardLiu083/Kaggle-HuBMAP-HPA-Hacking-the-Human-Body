{
 "cells": [
  {
   "cell_type": "code",
   "execution_count": 6,
   "id": "e94ab4fc",
   "metadata": {},
   "outputs": [],
   "source": [
    "import os\n",
    "import numpy as np\n",
    "import matplotlib.pyplot as plt\n",
    "import glob\n",
    "from PIL import Image\n",
    "import tifffile\n",
    "import pandas as pd\n",
    "import json"
   ]
  },
  {
   "cell_type": "code",
   "execution_count": null,
   "id": "5e1cd670",
   "metadata": {},
   "outputs": [],
   "source": [
    "train_df= pd.read_csv('Data/train.csv')\n",
    "train_df['image_path']= None\n",
    "for i in range(len(train_df)):\n",
    "    name= train_df.loc[i, 'id']\n",
    "    path= f'Data/train_images/{name}.tiff'\n",
    "    train_df.loc[i, 'image_path']= path\n",
    "train_df.head(3)"
   ]
  },
  {
   "cell_type": "code",
   "execution_count": null,
   "id": "b39d9eff",
   "metadata": {},
   "outputs": [],
   "source": [
    "from sklearn.model_selection import KFold,StratifiedKFold\n",
    "\n",
    "train_df['fold']= None\n",
    "kf= StratifiedKFold(n_splits=5, random_state=123, shuffle=True)\n",
    "for i, (train_index, test_index) in enumerate(kf.split(train_df['image_path'], train_df['organ'])):\n",
    "    for indx in test_index:\n",
    "        train_df.loc[indx, 'fold']= i\n",
    "        \n",
    "train_df.to_csv('train.csv', index=False)\n",
    "train_df.head(3)"
   ]
  },
  {
   "cell_type": "code",
   "execution_count": null,
   "id": "b41f10af",
   "metadata": {},
   "outputs": [],
   "source": [
    "train_df['organ'].hist()"
   ]
  },
  {
   "cell_type": "code",
   "execution_count": null,
   "id": "6be78115",
   "metadata": {},
   "outputs": [],
   "source": [
    "train_df= pd.read_csv('Data/train.csv')\n",
    "img_size= train_df[['img_height', 'img_width']].values.tolist()\n",
    "img_size= list(set([tuple(ti) for ti in img_size]))\n",
    "img_size"
   ]
  },
  {
   "cell_type": "code",
   "execution_count": 3,
   "id": "5d0967fa",
   "metadata": {
    "scrolled": true
   },
   "outputs": [],
   "source": [
    "def mask2rle(img):\n",
    "    '''\n",
    "    img: numpy array, 1 - mask, 0 - background\n",
    "    Returns run length as string formated\n",
    "    '''\n",
    "    pixels= img.T.flatten()\n",
    "    pixels = np.concatenate([[0], pixels, [0]])\n",
    "    runs = np.where(pixels[1:] != pixels[:-1])[0] + 1\n",
    "    runs[1::2] -= runs[::2]\n",
    "    return ' '.join(str(x) for x in runs)\n",
    "\n",
    "def rle_decode(mask_rle, shape, color=1):\n",
    "    '''\n",
    "    mask_rle: run-length as string formated (start length)\n",
    "    shape: (height,width) of array to return \n",
    "    Returns numpy array, 1 - mask, 0 - background\n",
    "    '''\n",
    "    s = mask_rle.split()\n",
    "    starts, lengths = [np.asarray(x, dtype=int) for x in (s[0:][::2], s[1:][::2])]\n",
    "    starts -= 1\n",
    "    ends = starts + lengths\n",
    "    img = np.zeros(shape[0] * shape[1], dtype=np.float32)\n",
    "    for lo, hi in zip(starts, ends):\n",
    "        img[lo : hi] = color\n",
    "    return img.reshape(shape).T\n",
    "\n",
    "\n",
    "# for i in range(3):\n",
    "#     name= train_df.loc[i, 'id']\n",
    "#     path= f'Data/train_images/{name}.tiff'\n",
    "#     img= np.array(Image.open(path))\n",
    "#     rle= train_df.loc[i, 'rle']\n",
    "#     mask= rle_decode(rle, img.shape[:2])\n",
    "    \n",
    "#     plt.imshow(img)\n",
    "#     plt.show()\n",
    "#     plt.imshow(mask)\n",
    "#     plt.show()\n",
    "#     mix= (img[..., 0] + mask*255)/2\n",
    "#     plt.imshow(mix.astype(np.uint8))\n",
    "#     plt.show()"
   ]
  },
  {
   "cell_type": "markdown",
   "id": "0030b165",
   "metadata": {},
   "source": [
    "# EX_Data"
   ]
  },
  {
   "cell_type": "code",
   "execution_count": null,
   "id": "f287e3fc",
   "metadata": {
    "scrolled": true
   },
   "outputs": [],
   "source": [
    "from tifffile import imread\n",
    "import cv2\n",
    "from tqdm.auto import tqdm\n",
    "\n",
    "def rle_decode(mask_rle, shape=(1600,256)):\n",
    "    '''\n",
    "    mask_rle: run-length as string formated (start length)\n",
    "    shape: (width,height) of array to return \n",
    "    Returns numpy array, 1 - mask, 0 - background\n",
    "\n",
    "    '''\n",
    "    s = mask_rle.split()\n",
    "    starts, lengths = [np.asarray(x, dtype=int) for x in (s[0:][::2], s[1:][::2])]\n",
    "    starts -= 1\n",
    "    ends = starts + lengths\n",
    "    img = np.zeros(shape[0]*shape[1], dtype=np.uint8)\n",
    "    for lo, hi in zip(starts, ends):\n",
    "        img[lo:hi] = 1\n",
    "    return img.reshape(shape).T\n",
    "\n",
    "\n",
    "img_path= glob.glob('Data/train_images_ex/**/*png', recursive=True)\n",
    "mask_path= glob.glob('Data/train_mask_ex/**/*png', recursive=True)\n",
    "train_df= pd.read_csv('Data/train.csv')\n",
    "df= pd.DataFrame(columns= train_df.columns)\n",
    "df['data_source']= 'Hubmap'\n",
    "df['fold']= -1\n",
    "df['rle']= ''\n",
    "\n",
    "for i in tqdm(range(len(mask_path))):\n",
    "    path= img_path[i]\n",
    "    mask= np.array(Image.open(mask_path[i]))\n",
    "    df.loc[i, 'image_path']= path\n",
    "    df.loc[i, 'rle']= mask2rle(mask)\n",
    "df.to_csv('Data/train_ex.csv', index= False)\n",
    "df"
   ]
  },
  {
   "cell_type": "code",
   "execution_count": 28,
   "id": "1c3e7348",
   "metadata": {},
   "outputs": [
    {
     "name": "stderr",
     "output_type": "stream",
     "text": [
      "100%|██████████████████████████████████████████████████████████████████████████████████| 15/15 [03:51<00:00, 15.43s/it]\n"
     ]
    }
   ],
   "source": [
    "from tifffile import imread\n",
    "from tqdm import tqdm\n",
    "\n",
    "def rle_decode(mask_rle, shape=(1600,256)):\n",
    "    '''\n",
    "    mask_rle: run-length as string formated (start length)\n",
    "    shape: (width,height) of array to return \n",
    "    Returns numpy array, 1 - mask, 0 - background\n",
    "\n",
    "    '''\n",
    "    s = mask_rle.split()\n",
    "    starts, lengths = [np.asarray(x, dtype=int) for x in (s[0:][::2], s[1:][::2])]\n",
    "    starts -= 1\n",
    "    ends = starts + lengths\n",
    "    img = np.zeros(shape[0]*shape[1], dtype=np.uint8)\n",
    "    for lo, hi in zip(starts, ends):\n",
    "        img[lo:hi] = 1\n",
    "    return img.reshape(shape).T\n",
    "\n",
    "def rle_encode(img):\n",
    "    #the image should be transposed\n",
    "    pixels = img.T.flatten()\n",
    "    # This simplified method requires first and last pixel to be zero\n",
    "    pixels[0] = 0\n",
    "    pixels[-1] = 0\n",
    "    runs = np.where(pixels[1:] != pixels[:-1])[0] + 2\n",
    "    runs[1::2] -= runs[::2]\n",
    "    return ' '.join(str(x) for x in runs)\n",
    "\n",
    "\n",
    "df= pd.read_csv('Data/train_images_ex_full/train.csv')\n",
    "df= df.rename(columns= {'encoding': 'rle'})\n",
    "df['image_path']= None\n",
    "df['mask_path']= None\n",
    "\n",
    "for i in tqdm(range(len(df))):\n",
    "    id_= df.loc[i, 'id']\n",
    "    df.loc[i, 'image_path']= f'Data/train_images_ex_full/{id_}.tiff'\n",
    "    rle= df.loc[i, 'rle']\n",
    "    img= imread(df.loc[i, 'image_path'])\n",
    "    mask= rle_decode(rle, shape=img.shape[:2][::-1])\n",
    "    mask*= 255\n",
    "    im= Image.fromarray(mask.astype(np.uint8))\n",
    "    im.save(f'Data/train_mask_ex_full/{id_}.png')\n",
    "    df.loc[i, 'mask_path']= f'Data/train_mask_ex_full/{id_}.png'\n",
    "df= df.drop(['rle'], axis=1)\n",
    "df.to_csv('Data/train_ex_full.csv', index= False)"
   ]
  },
  {
   "cell_type": "code",
   "execution_count": 8,
   "id": "50fc0bbc",
   "metadata": {},
   "outputs": [],
   "source": [
    "from tifffile import imread\n",
    "from tqdm import tqdm\n",
    "import cv2\n",
    "\n",
    "imgs= glob.glob('Data/train_ex_1/train_img/**/*tiff', recursive=True)\n",
    "df= pd.DataFrame(columns=('image_path', 'mask_path'))\n",
    "for i, path in enumerate(imgs):\n",
    "    df.loc[i, 'image_path']= path\n",
    "    path= path.replace('train_img', 'train_mask')\n",
    "    path= path.replace('tiff', 'png')\n",
    "    df.loc[i, 'mask_path']= path\n",
    "df.to_csv('Data/ex_data.csv', index=False)"
   ]
  },
  {
   "cell_type": "code",
   "execution_count": 10,
   "id": "d47b8fcb",
   "metadata": {},
   "outputs": [
    {
     "name": "stderr",
     "output_type": "stream",
     "text": [
      "Shaped series: axes do not match shape\n"
     ]
    },
    {
     "name": "stdout",
     "output_type": "stream",
     "text": [
      "(4536, 4704)\n"
     ]
    },
    {
     "name": "stderr",
     "output_type": "stream",
     "text": [
      "Shaped series: axes do not match shape\n"
     ]
    },
    {
     "name": "stdout",
     "output_type": "stream",
     "text": [
      "(4536, 4704)\n"
     ]
    },
    {
     "name": "stderr",
     "output_type": "stream",
     "text": [
      "Shaped series: axes do not match shape\n"
     ]
    },
    {
     "name": "stdout",
     "output_type": "stream",
     "text": [
      "(4536, 4704)\n"
     ]
    },
    {
     "name": "stderr",
     "output_type": "stream",
     "text": [
      "Shaped series: axes do not match shape\n"
     ]
    },
    {
     "name": "stdout",
     "output_type": "stream",
     "text": [
      "(4536, 4704)\n"
     ]
    },
    {
     "name": "stderr",
     "output_type": "stream",
     "text": [
      "Shaped series: axes do not match shape\n"
     ]
    },
    {
     "name": "stdout",
     "output_type": "stream",
     "text": [
      "(4536, 4704)\n"
     ]
    },
    {
     "name": "stderr",
     "output_type": "stream",
     "text": [
      "Shaped series: axes do not match shape\n"
     ]
    },
    {
     "name": "stdout",
     "output_type": "stream",
     "text": [
      "(4536, 4704)\n"
     ]
    }
   ],
   "source": [
    "imgs= glob.glob('Data/train_ex_1/train_mask/**/*tiff', recursive=True)\n",
    "for path in imgs:\n",
    "    img= imread(path)\n",
    "    print(img.shape)\n",
    "    im= Image.fromarray(img)\n",
    "    im.save(path.replace('tiff', 'png'))"
   ]
  },
  {
   "cell_type": "markdown",
   "id": "cd039fac",
   "metadata": {},
   "source": [
    "# check tiff read issue"
   ]
  },
  {
   "cell_type": "code",
   "execution_count": 5,
   "id": "a6b450a1",
   "metadata": {
    "scrolled": true
   },
   "outputs": [
    {
     "name": "stdout",
     "output_type": "stream",
     "text": [
      "(31278, 25794, 3)\n",
      "(31299, 44066, 3)\n",
      "(18484, 13013, 3)\n"
     ]
    },
    {
     "ename": "KeyboardInterrupt",
     "evalue": "",
     "output_type": "error",
     "traceback": [
      "\u001b[1;31m---------------------------------------------------------------------------\u001b[0m",
      "\u001b[1;31mKeyboardInterrupt\u001b[0m                         Traceback (most recent call last)",
      "\u001b[1;32m<ipython-input-5-8d8dc9322009>\u001b[0m in \u001b[0;36m<module>\u001b[1;34m\u001b[0m\n\u001b[0;32m      3\u001b[0m \u001b[0mdf\u001b[0m\u001b[1;33m=\u001b[0m \u001b[0mpd\u001b[0m\u001b[1;33m.\u001b[0m\u001b[0mread_csv\u001b[0m\u001b[1;33m(\u001b[0m\u001b[1;34m'Data/ex_data_kidney.csv'\u001b[0m\u001b[1;33m)\u001b[0m\u001b[1;33m\u001b[0m\u001b[1;33m\u001b[0m\u001b[0m\n\u001b[0;32m      4\u001b[0m \u001b[1;32mfor\u001b[0m \u001b[0mpath\u001b[0m \u001b[1;32min\u001b[0m \u001b[0mdf\u001b[0m\u001b[1;33m[\u001b[0m\u001b[1;34m'image_path'\u001b[0m\u001b[1;33m]\u001b[0m\u001b[1;33m:\u001b[0m\u001b[1;33m\u001b[0m\u001b[1;33m\u001b[0m\u001b[0m\n\u001b[1;32m----> 5\u001b[1;33m     \u001b[0mimg\u001b[0m\u001b[1;33m=\u001b[0m \u001b[0mimread\u001b[0m\u001b[1;33m(\u001b[0m\u001b[0mpath\u001b[0m\u001b[1;33m)\u001b[0m\u001b[1;33m\u001b[0m\u001b[1;33m\u001b[0m\u001b[0m\n\u001b[0m\u001b[0;32m      6\u001b[0m     \u001b[0mimg\u001b[0m\u001b[1;33m=\u001b[0m \u001b[0mnp\u001b[0m\u001b[1;33m.\u001b[0m\u001b[0msqueeze\u001b[0m\u001b[1;33m(\u001b[0m\u001b[0mimg\u001b[0m\u001b[1;33m)\u001b[0m\u001b[1;33m\u001b[0m\u001b[1;33m\u001b[0m\u001b[0m\n\u001b[0;32m      7\u001b[0m     \u001b[1;32mif\u001b[0m \u001b[0mimg\u001b[0m\u001b[1;33m.\u001b[0m\u001b[0mshape\u001b[0m\u001b[1;33m[\u001b[0m\u001b[1;36m0\u001b[0m\u001b[1;33m]\u001b[0m\u001b[1;33m==\u001b[0m\u001b[1;36m3\u001b[0m\u001b[1;33m:\u001b[0m \u001b[0mimg\u001b[0m\u001b[1;33m=\u001b[0m \u001b[0mnp\u001b[0m\u001b[1;33m.\u001b[0m\u001b[0mtranspose\u001b[0m\u001b[1;33m(\u001b[0m\u001b[0mimg\u001b[0m\u001b[1;33m,\u001b[0m \u001b[1;33m(\u001b[0m\u001b[1;36m1\u001b[0m\u001b[1;33m,\u001b[0m\u001b[1;36m2\u001b[0m\u001b[1;33m,\u001b[0m\u001b[1;36m0\u001b[0m\u001b[1;33m)\u001b[0m\u001b[1;33m)\u001b[0m\u001b[1;33m\u001b[0m\u001b[1;33m\u001b[0m\u001b[0m\n",
      "\u001b[1;32m~\\Anaconda3\\lib\\site-packages\\tifffile\\tifffile.py\u001b[0m in \u001b[0;36mimread\u001b[1;34m(files, **kwargs)\u001b[0m\n\u001b[0;32m    719\u001b[0m         \u001b[1;32mif\u001b[0m \u001b[0misinstance\u001b[0m\u001b[1;33m(\u001b[0m\u001b[0mfiles\u001b[0m\u001b[1;33m,\u001b[0m \u001b[1;33m(\u001b[0m\u001b[0mstr\u001b[0m\u001b[1;33m,\u001b[0m \u001b[0mos\u001b[0m\u001b[1;33m.\u001b[0m\u001b[0mPathLike\u001b[0m\u001b[1;33m)\u001b[0m\u001b[1;33m)\u001b[0m \u001b[1;32mor\u001b[0m \u001b[0mhasattr\u001b[0m\u001b[1;33m(\u001b[0m\u001b[0mfiles\u001b[0m\u001b[1;33m,\u001b[0m \u001b[1;34m'seek'\u001b[0m\u001b[1;33m)\u001b[0m\u001b[1;33m:\u001b[0m\u001b[1;33m\u001b[0m\u001b[1;33m\u001b[0m\u001b[0m\n\u001b[0;32m    720\u001b[0m             \u001b[1;32mwith\u001b[0m \u001b[0mTiffFile\u001b[0m\u001b[1;33m(\u001b[0m\u001b[0mfiles\u001b[0m\u001b[1;33m,\u001b[0m \u001b[1;33m**\u001b[0m\u001b[0mkwargs_file\u001b[0m\u001b[1;33m)\u001b[0m \u001b[1;32mas\u001b[0m \u001b[0mtif\u001b[0m\u001b[1;33m:\u001b[0m\u001b[1;33m\u001b[0m\u001b[1;33m\u001b[0m\u001b[0m\n\u001b[1;32m--> 721\u001b[1;33m                 \u001b[1;32mreturn\u001b[0m \u001b[0mtif\u001b[0m\u001b[1;33m.\u001b[0m\u001b[0masarray\u001b[0m\u001b[1;33m(\u001b[0m\u001b[1;33m**\u001b[0m\u001b[0mkwargs\u001b[0m\u001b[1;33m)\u001b[0m\u001b[1;33m\u001b[0m\u001b[1;33m\u001b[0m\u001b[0m\n\u001b[0m\u001b[0;32m    722\u001b[0m \u001b[1;33m\u001b[0m\u001b[0m\n\u001b[0;32m    723\u001b[0m     \u001b[1;32mwith\u001b[0m \u001b[0mTiffSequence\u001b[0m\u001b[1;33m(\u001b[0m\u001b[0mfiles\u001b[0m\u001b[1;33m,\u001b[0m \u001b[1;33m**\u001b[0m\u001b[0mkwargs_seq\u001b[0m\u001b[1;33m)\u001b[0m \u001b[1;32mas\u001b[0m \u001b[0mimseq\u001b[0m\u001b[1;33m:\u001b[0m\u001b[1;33m\u001b[0m\u001b[1;33m\u001b[0m\u001b[0m\n",
      "\u001b[1;32m~\\Anaconda3\\lib\\site-packages\\tifffile\\tifffile.py\u001b[0m in \u001b[0;36masarray\u001b[1;34m(self, key, series, level, out, maxworkers)\u001b[0m\n\u001b[0;32m   2805\u001b[0m                     typecode, product(series.shape), out=out)\n\u001b[0;32m   2806\u001b[0m         \u001b[1;32melif\u001b[0m \u001b[0mlen\u001b[0m\u001b[1;33m(\u001b[0m\u001b[0mpages\u001b[0m\u001b[1;33m)\u001b[0m \u001b[1;33m==\u001b[0m \u001b[1;36m1\u001b[0m\u001b[1;33m:\u001b[0m\u001b[1;33m\u001b[0m\u001b[1;33m\u001b[0m\u001b[0m\n\u001b[1;32m-> 2807\u001b[1;33m             \u001b[0mresult\u001b[0m \u001b[1;33m=\u001b[0m \u001b[0mpages\u001b[0m\u001b[1;33m[\u001b[0m\u001b[1;36m0\u001b[0m\u001b[1;33m]\u001b[0m\u001b[1;33m.\u001b[0m\u001b[0masarray\u001b[0m\u001b[1;33m(\u001b[0m\u001b[0mout\u001b[0m\u001b[1;33m=\u001b[0m\u001b[0mout\u001b[0m\u001b[1;33m,\u001b[0m \u001b[0mmaxworkers\u001b[0m\u001b[1;33m=\u001b[0m\u001b[0mmaxworkers\u001b[0m\u001b[1;33m)\u001b[0m\u001b[1;33m\u001b[0m\u001b[1;33m\u001b[0m\u001b[0m\n\u001b[0m\u001b[0;32m   2808\u001b[0m         \u001b[1;32melse\u001b[0m\u001b[1;33m:\u001b[0m\u001b[1;33m\u001b[0m\u001b[1;33m\u001b[0m\u001b[0m\n\u001b[0;32m   2809\u001b[0m             \u001b[0mresult\u001b[0m \u001b[1;33m=\u001b[0m \u001b[0mstack_pages\u001b[0m\u001b[1;33m(\u001b[0m\u001b[0mpages\u001b[0m\u001b[1;33m,\u001b[0m \u001b[0mout\u001b[0m\u001b[1;33m=\u001b[0m\u001b[0mout\u001b[0m\u001b[1;33m,\u001b[0m \u001b[0mmaxworkers\u001b[0m\u001b[1;33m=\u001b[0m\u001b[0mmaxworkers\u001b[0m\u001b[1;33m)\u001b[0m\u001b[1;33m\u001b[0m\u001b[1;33m\u001b[0m\u001b[0m\n",
      "\u001b[1;32m~\\Anaconda3\\lib\\site-packages\\tifffile\\tifffile.py\u001b[0m in \u001b[0;36masarray\u001b[1;34m(self, out, squeeze, lock, reopen, maxworkers)\u001b[0m\n\u001b[0;32m   5646\u001b[0m \u001b[1;33m\u001b[0m\u001b[0m\n\u001b[0;32m   5647\u001b[0m             for _ in self.segments(\n\u001b[1;32m-> 5648\u001b[1;33m                 \u001b[0mfunc\u001b[0m\u001b[1;33m=\u001b[0m\u001b[0mfunc\u001b[0m\u001b[1;33m,\u001b[0m \u001b[0mlock\u001b[0m\u001b[1;33m=\u001b[0m\u001b[0mlock\u001b[0m\u001b[1;33m,\u001b[0m \u001b[0mmaxworkers\u001b[0m\u001b[1;33m=\u001b[0m\u001b[0mmaxworkers\u001b[0m\u001b[1;33m,\u001b[0m \u001b[0msort\u001b[0m\u001b[1;33m=\u001b[0m\u001b[1;32mTrue\u001b[0m\u001b[1;33m\u001b[0m\u001b[1;33m\u001b[0m\u001b[0m\n\u001b[0m\u001b[0;32m   5649\u001b[0m             ):\n\u001b[0;32m   5650\u001b[0m                 \u001b[1;32mpass\u001b[0m\u001b[1;33m\u001b[0m\u001b[1;33m\u001b[0m\u001b[0m\n",
      "\u001b[1;32m~\\Anaconda3\\lib\\site-packages\\tifffile\\tifffile.py\u001b[0m in \u001b[0;36msegments\u001b[1;34m(self, lock, maxworkers, func, sort)\u001b[0m\n\u001b[0;32m   5519\u001b[0m                     \u001b[1;33m*\u001b[0m\u001b[0mself\u001b[0m\u001b[1;33m.\u001b[0m\u001b[0m_offsetscounts\u001b[0m\u001b[1;33m,\u001b[0m \u001b[0mlock\u001b[0m\u001b[1;33m=\u001b[0m\u001b[0mlock\u001b[0m\u001b[1;33m,\u001b[0m \u001b[0msort\u001b[0m\u001b[1;33m=\u001b[0m\u001b[0msort\u001b[0m\u001b[1;33m,\u001b[0m \u001b[0mflat\u001b[0m\u001b[1;33m=\u001b[0m\u001b[1;32mFalse\u001b[0m\u001b[1;33m\u001b[0m\u001b[1;33m\u001b[0m\u001b[0m\n\u001b[0;32m   5520\u001b[0m                 ):\n\u001b[1;32m-> 5521\u001b[1;33m                     \u001b[1;32myield\u001b[0m \u001b[1;32mfrom\u001b[0m \u001b[0mexecutor\u001b[0m\u001b[1;33m.\u001b[0m\u001b[0mmap\u001b[0m\u001b[1;33m(\u001b[0m\u001b[0mdecode\u001b[0m\u001b[1;33m,\u001b[0m \u001b[0msegments\u001b[0m\u001b[1;33m)\u001b[0m\u001b[1;33m\u001b[0m\u001b[1;33m\u001b[0m\u001b[0m\n\u001b[0m\u001b[0;32m   5522\u001b[0m \u001b[1;33m\u001b[0m\u001b[0m\n\u001b[0;32m   5523\u001b[0m     def asarray(self, out=None, squeeze=True, lock=None, reopen=True,\n",
      "\u001b[1;32m~\\Anaconda3\\lib\\concurrent\\futures\\_base.py\u001b[0m in \u001b[0;36mresult_iterator\u001b[1;34m()\u001b[0m\n\u001b[0;32m    584\u001b[0m                     \u001b[1;31m# Careful not to keep a reference to the popped future\u001b[0m\u001b[1;33m\u001b[0m\u001b[1;33m\u001b[0m\u001b[1;33m\u001b[0m\u001b[0m\n\u001b[0;32m    585\u001b[0m                     \u001b[1;32mif\u001b[0m \u001b[0mtimeout\u001b[0m \u001b[1;32mis\u001b[0m \u001b[1;32mNone\u001b[0m\u001b[1;33m:\u001b[0m\u001b[1;33m\u001b[0m\u001b[1;33m\u001b[0m\u001b[0m\n\u001b[1;32m--> 586\u001b[1;33m                         \u001b[1;32myield\u001b[0m \u001b[0mfs\u001b[0m\u001b[1;33m.\u001b[0m\u001b[0mpop\u001b[0m\u001b[1;33m(\u001b[0m\u001b[1;33m)\u001b[0m\u001b[1;33m.\u001b[0m\u001b[0mresult\u001b[0m\u001b[1;33m(\u001b[0m\u001b[1;33m)\u001b[0m\u001b[1;33m\u001b[0m\u001b[1;33m\u001b[0m\u001b[0m\n\u001b[0m\u001b[0;32m    587\u001b[0m                     \u001b[1;32melse\u001b[0m\u001b[1;33m:\u001b[0m\u001b[1;33m\u001b[0m\u001b[1;33m\u001b[0m\u001b[0m\n\u001b[0;32m    588\u001b[0m                         \u001b[1;32myield\u001b[0m \u001b[0mfs\u001b[0m\u001b[1;33m.\u001b[0m\u001b[0mpop\u001b[0m\u001b[1;33m(\u001b[0m\u001b[1;33m)\u001b[0m\u001b[1;33m.\u001b[0m\u001b[0mresult\u001b[0m\u001b[1;33m(\u001b[0m\u001b[0mend_time\u001b[0m \u001b[1;33m-\u001b[0m \u001b[0mtime\u001b[0m\u001b[1;33m.\u001b[0m\u001b[0mmonotonic\u001b[0m\u001b[1;33m(\u001b[0m\u001b[1;33m)\u001b[0m\u001b[1;33m)\u001b[0m\u001b[1;33m\u001b[0m\u001b[1;33m\u001b[0m\u001b[0m\n",
      "\u001b[1;32m~\\Anaconda3\\lib\\concurrent\\futures\\_base.py\u001b[0m in \u001b[0;36mresult\u001b[1;34m(self, timeout)\u001b[0m\n\u001b[0;32m    425\u001b[0m                 \u001b[1;32mreturn\u001b[0m \u001b[0mself\u001b[0m\u001b[1;33m.\u001b[0m\u001b[0m__get_result\u001b[0m\u001b[1;33m(\u001b[0m\u001b[1;33m)\u001b[0m\u001b[1;33m\u001b[0m\u001b[1;33m\u001b[0m\u001b[0m\n\u001b[0;32m    426\u001b[0m \u001b[1;33m\u001b[0m\u001b[0m\n\u001b[1;32m--> 427\u001b[1;33m             \u001b[0mself\u001b[0m\u001b[1;33m.\u001b[0m\u001b[0m_condition\u001b[0m\u001b[1;33m.\u001b[0m\u001b[0mwait\u001b[0m\u001b[1;33m(\u001b[0m\u001b[0mtimeout\u001b[0m\u001b[1;33m)\u001b[0m\u001b[1;33m\u001b[0m\u001b[1;33m\u001b[0m\u001b[0m\n\u001b[0m\u001b[0;32m    428\u001b[0m \u001b[1;33m\u001b[0m\u001b[0m\n\u001b[0;32m    429\u001b[0m             \u001b[1;32mif\u001b[0m \u001b[0mself\u001b[0m\u001b[1;33m.\u001b[0m\u001b[0m_state\u001b[0m \u001b[1;32min\u001b[0m \u001b[1;33m[\u001b[0m\u001b[0mCANCELLED\u001b[0m\u001b[1;33m,\u001b[0m \u001b[0mCANCELLED_AND_NOTIFIED\u001b[0m\u001b[1;33m]\u001b[0m\u001b[1;33m:\u001b[0m\u001b[1;33m\u001b[0m\u001b[1;33m\u001b[0m\u001b[0m\n",
      "\u001b[1;32m~\\Anaconda3\\lib\\threading.py\u001b[0m in \u001b[0;36mwait\u001b[1;34m(self, timeout)\u001b[0m\n\u001b[0;32m    293\u001b[0m         \u001b[1;32mtry\u001b[0m\u001b[1;33m:\u001b[0m    \u001b[1;31m# restore state no matter what (e.g., KeyboardInterrupt)\u001b[0m\u001b[1;33m\u001b[0m\u001b[1;33m\u001b[0m\u001b[0m\n\u001b[0;32m    294\u001b[0m             \u001b[1;32mif\u001b[0m \u001b[0mtimeout\u001b[0m \u001b[1;32mis\u001b[0m \u001b[1;32mNone\u001b[0m\u001b[1;33m:\u001b[0m\u001b[1;33m\u001b[0m\u001b[1;33m\u001b[0m\u001b[0m\n\u001b[1;32m--> 295\u001b[1;33m                 \u001b[0mwaiter\u001b[0m\u001b[1;33m.\u001b[0m\u001b[0macquire\u001b[0m\u001b[1;33m(\u001b[0m\u001b[1;33m)\u001b[0m\u001b[1;33m\u001b[0m\u001b[1;33m\u001b[0m\u001b[0m\n\u001b[0m\u001b[0;32m    296\u001b[0m                 \u001b[0mgotit\u001b[0m \u001b[1;33m=\u001b[0m \u001b[1;32mTrue\u001b[0m\u001b[1;33m\u001b[0m\u001b[1;33m\u001b[0m\u001b[0m\n\u001b[0;32m    297\u001b[0m             \u001b[1;32melse\u001b[0m\u001b[1;33m:\u001b[0m\u001b[1;33m\u001b[0m\u001b[1;33m\u001b[0m\u001b[0m\n",
      "\u001b[1;31mKeyboardInterrupt\u001b[0m: "
     ]
    }
   ],
   "source": [
    "from tifffile import imread\n",
    "\n",
    "df= pd.read_csv('Data/ex_data_kidney.csv')\n",
    "for path in df['image_path']:\n",
    "    img= imread(path)\n",
    "    img= np.squeeze(img)\n",
    "    if img.shape[0]==3: img= np.transpose(img, (1,2,0))\n",
    "    print(img.shape)\n",
    "    del img"
   ]
  },
  {
   "cell_type": "markdown",
   "id": "6dd0c65f",
   "metadata": {},
   "source": [
    "# stain normalization"
   ]
  },
  {
   "cell_type": "code",
   "execution_count": 21,
   "id": "06786546",
   "metadata": {},
   "outputs": [
    {
     "data": {
      "application/vnd.jupyter.widget-view+json": {
       "model_id": "c53ca9d0af044f899a9b1e59dd2c7d02",
       "version_major": 2,
       "version_minor": 0
      },
      "text/plain": [
       "  0%|          | 0/351 [00:00<?, ?it/s]"
      ]
     },
     "metadata": {},
     "output_type": "display_data"
    },
    {
     "name": "stderr",
     "output_type": "stream",
     "text": [
      "C:\\Users\\foresight\\Anaconda3\\lib\\site-packages\\staintools\\miscellaneous\\miscellaneous_functions.py:26: RuntimeWarning: invalid value encountered in true_divide\n",
      "  return A / np.linalg.norm(A, axis=1)[:, None]\n",
      "C:\\Users\\foresight\\Anaconda3\\lib\\site-packages\\staintools\\stain_normalizer.py:41: RuntimeWarning: divide by zero encountered in true_divide\n",
      "  source_concentrations *= (self.maxC_target / maxC_source)\n",
      "C:\\Users\\foresight\\Anaconda3\\lib\\site-packages\\staintools\\stain_normalizer.py:41: RuntimeWarning: invalid value encountered in multiply\n",
      "  source_concentrations *= (self.maxC_target / maxC_source)\n"
     ]
    }
   ],
   "source": [
    "import staintools\n",
    "from tqdm.auto import tqdm\n",
    "\n",
    "target = staintools.read_image('Data/test_images/10078.tiff')\n",
    "source_img= glob.glob('Data/train_images/**/*tiff', recursive=True)\n",
    "\n",
    "for path in tqdm(source_img[:]):\n",
    "    to_transform = staintools.read_image(path)\n",
    "\n",
    "    # Standardize brightness (optional, can improve the tissue mask calculation)\n",
    "    target = staintools.LuminosityStandardizer.standardize(target)\n",
    "    to_transform = staintools.LuminosityStandardizer.standardize(to_transform)\n",
    "\n",
    "    # Stain normalize\n",
    "    normalizer = staintools.StainNormalizer(method='vahadane')\n",
    "    normalizer.fit(target)\n",
    "    transformed1 = normalizer.transform(to_transform)\n",
    "    \n",
    "    name= path.split('\\\\')[-1]\n",
    "    tifffile.imwrite(f'../Data/{name}', transformed1)"
   ]
  }
 ],
 "metadata": {
  "kernelspec": {
   "display_name": "Python 3",
   "language": "python",
   "name": "python3"
  },
  "language_info": {
   "codemirror_mode": {
    "name": "ipython",
    "version": 3
   },
   "file_extension": ".py",
   "mimetype": "text/x-python",
   "name": "python",
   "nbconvert_exporter": "python",
   "pygments_lexer": "ipython3",
   "version": "3.6.9"
  }
 },
 "nbformat": 4,
 "nbformat_minor": 5
}
