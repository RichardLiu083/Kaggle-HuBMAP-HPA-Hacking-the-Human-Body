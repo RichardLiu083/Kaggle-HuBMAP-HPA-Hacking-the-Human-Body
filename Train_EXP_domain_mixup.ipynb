{
 "cells": [
  {
   "cell_type": "code",
   "execution_count": 1,
   "metadata": {},
   "outputs": [
    {
     "name": "stderr",
     "output_type": "stream",
     "text": [
      "C:\\Users\\foresight\\Anaconda3\\lib\\site-packages\\numpy\\_distributor_init.py:32: UserWarning: loaded more than 1 DLL from .libs:\n",
      "C:\\Users\\foresight\\Anaconda3\\lib\\site-packages\\numpy\\.libs\\libopenblas.PYQHXLVVQ7VESDPUVUADXEVJOBGHJPAY.gfortran-win_amd64.dll\n",
      "C:\\Users\\foresight\\Anaconda3\\lib\\site-packages\\numpy\\.libs\\libopenblas.WCDJNK7YVMPZQ2ME2ZZHJJRJ3JIKNDB7.gfortran-win_amd64.dll\n",
      "  stacklevel=1)\n"
     ]
    }
   ],
   "source": [
    "import albumentations as A\n",
    "from albumentations.pytorch.transforms import ToTensorV2\n",
    "\n",
    "import torch\n",
    "import torch.nn as nn\n",
    "from torchvision import datasets, models, transforms\n",
    "from torch.utils.data import DataLoader, Dataset\n",
    "import torch.optim as optim\n",
    "from torch.cuda import amp\n",
    "import timm\n",
    "from pytorch_toolbelt.inference import tta\n",
    "from pytorch_toolbelt import losses as L\n",
    "\n",
    "import random\n",
    "from tqdm.auto import tqdm\n",
    "from PIL import Image\n",
    "import numpy as np\n",
    "import cv2\n",
    "from matplotlib import pyplot as plt\n",
    "import os\n",
    "import json\n",
    "import pandas as pd\n",
    "import segmentation_models_pytorch as smp\n",
    "from augmentation import *\n",
    "from monai.inferers import sliding_window_inference\n",
    "from tifffile import imread\n",
    "\n",
    "os.environ['CUDA_VISIBLE_DEVICES'] = '0'\n",
    "\n",
    "def seed_everything(seed=123):\n",
    "    random.seed(seed)\n",
    "    os.environ['PYTHONHASHSEED'] = str(seed)\n",
    "    np.random.seed(seed)\n",
    "    torch.manual_seed(seed)\n",
    "    torch.cuda.manual_seed(seed)\n",
    "    torch.backends.cudnn.deterministic = True\n",
    "seed_everything()"
   ]
  },
  {
   "cell_type": "code",
   "execution_count": 2,
   "metadata": {},
   "outputs": [],
   "source": [
    "def get_train_transform():\n",
    "    return A.Compose([\n",
    "        A.PadIfNeeded(min_height=CFG['window_size'], min_width=CFG['window_size'], p=1),\n",
    "        A.RandomCrop(CFG['window_size'], CFG['window_size'], p=1),\n",
    "        \n",
    "        A.OneOf([\n",
    "            A.HueSaturationValue(hue_shift_limit=100, sat_shift_limit=15, val_shift_limit=10, p=0.7),\n",
    "            A.CLAHE(clip_limit=2, p=0.3),\n",
    "            A.RandomBrightnessContrast(brightness_limit=0.1, contrast_limit=0.1, p=0.3),\n",
    "        ], p=0.9),\n",
    "        \n",
    "        A.Blur(blur_limit= 2, p=0.3),\n",
    "        A.GaussNoise(p=0.3),\n",
    "        \n",
    "        A.HorizontalFlip(p=0.5),\n",
    "        A.VerticalFlip(p=0.5),\n",
    "        A.RandomRotate90(p=0.5),\n",
    "        A.Transpose(p=0.5),\n",
    "        \n",
    "#         A.OneOf([\n",
    "#             A.GridDistortion(num_steps=5, distort_limit=0.5, p=1.0),\n",
    "#             A.ElasticTransform(alpha=1, sigma=50, alpha_affine=50, p=1.0)\n",
    "#         ], p=0.7),\n",
    "        A.ShiftScaleRotate(shift_limit=0.05, scale_limit=0.2, rotate_limit= 15,\n",
    "                                        interpolation=cv2.INTER_LINEAR, border_mode=0, p=0.9),\n",
    "        A.CoarseDropout(max_holes=8, max_height=CFG['window_size']//20, max_width=CFG['window_size']//20,\n",
    "                        min_holes=5, fill_value=0, mask_fill_value=0, p=0.5),\n",
    "        ToTensorV2(p=1.0),\n",
    "    ])\n",
    "\n",
    "\n",
    "def get_test_transform():\n",
    "    return A.Compose([\n",
    "        ToTensorV2(p=1.0),\n",
    "    ] )"
   ]
  },
  {
   "cell_type": "code",
   "execution_count": 3,
   "metadata": {},
   "outputs": [],
   "source": [
    "def rle_decode(mask_rle, shape, color=1):\n",
    "    '''\n",
    "    mask_rle: run-length as string formated (start length)\n",
    "    shape: (height,width) of array to return \n",
    "    Returns numpy array, 1 - mask, 0 - background\n",
    "    '''\n",
    "    s = mask_rle.split()\n",
    "    starts, lengths = [np.asarray(x, dtype=int) for x in (s[0:][::2], s[1:][::2])]\n",
    "    starts -= 1\n",
    "    ends = starts + lengths\n",
    "    img = np.zeros(shape[0] * shape[1], dtype=np.float32)\n",
    "    for lo, hi in zip(starts, ends):\n",
    "        img[lo : hi] = color\n",
    "    return img.reshape(shape).T\n",
    "\n",
    "def read_data(data, mode):\n",
    "    ## read img\n",
    "    img_path= data['image_path']\n",
    "    if CFG['domain_mixup'] and mode=='train':\n",
    "        try: img_s= imread(img_path)\n",
    "        except: img_s= np.array(Image.open(img_path))\n",
    "        img_path= img_path.replace('train_images', 'train_images_domain_shift')\n",
    "        try: img_t= imread(img_path)\n",
    "        except: img_t= np.array(Image.open(img_path))\n",
    "    else:\n",
    "        try: img= imread(img_path)\n",
    "        except: img= np.array(Image.open(img_path))\n",
    "    \n",
    "    ## read mask\n",
    "    if CFG['domain_mixup'] and mode=='train':\n",
    "        mask= rle_decode(data['rle'], img_s.shape[:2])\n",
    "    else:\n",
    "        mask= rle_decode(data['rle'], img.shape[:2])\n",
    "    mask= np.expand_dims(mask, axis= 2)\n",
    "    \n",
    "    ## scale adjust\n",
    "    if CFG['domain_mixup'] and mode=='train':\n",
    "        img_size= min(img_s.shape[0], img_s.shape[1])\n",
    "    else:\n",
    "        img_size= min(img.shape[0], img.shape[1])\n",
    "    img_size= img_size//CFG['img_scale']\n",
    "    img_size= CFG['window_size'] if img_size < CFG['window_size'] else img_size\n",
    "    mask= cv2.resize(mask, (img_size, img_size))\n",
    "    mask= np.expand_dims(mask, axis= 2)\n",
    "    \n",
    "    ## domain minup\n",
    "    if CFG['domain_mixup'] and mode=='train':\n",
    "        img_s= cv2.resize(img_s, (img_size, img_size))\n",
    "        img_t= cv2.resize(img_t, (img_size, img_size))\n",
    "\n",
    "        weight= np.random.rand()\n",
    "        img= img_s.astype(np.float16)*(weight) + img_t.astype(np.float16)*(1-weight)\n",
    "        img= img.astype(np.uint8)\n",
    "    else:\n",
    "        img= cv2.resize(img, (img_size, img_size))\n",
    "    \n",
    "    ## organ type\n",
    "    organ= data['organ']\n",
    "    return img, mask, organ\n",
    "\n",
    "\n",
    "class custom_dataset(Dataset):\n",
    "    \n",
    "    def __init__(self, dataset, transforms,\n",
    "                 mode='valid',\n",
    "                 cutmix=False,\n",
    "                 mixup=False,\n",
    "                 mosaic=False,\n",
    "                 copypaste=False):\n",
    "        self.dataset= dataset\n",
    "        self.transforms= transforms\n",
    "        self.mode= mode\n",
    "        self.cutmix= cutmix\n",
    "        self.mixup= mixup\n",
    "        self.mosaic= mosaic\n",
    "        self.copypaste= copypaste\n",
    "        \n",
    "    def __getitem__(self, index):\n",
    "        \n",
    "        data= self.dataset.loc[index]\n",
    "        img, mask, organ= read_data(data, self.mode)\n",
    "        \n",
    "        ## augmentation\n",
    "        while True:\n",
    "            aug= self.transforms(image= img, mask= mask)\n",
    "            aug_img, aug_mask= aug['image'], aug['mask']\n",
    "            if aug_mask.numpy().any(): break\n",
    "        img, mask= aug_img, aug_mask\n",
    "        \n",
    "        # use mosaic\n",
    "        if self.mosaic and np.random.rand() >= (1-self.mosaic) and organ!='lung':\n",
    "            img_1= img.permute(1,2,0).numpy()\n",
    "            mask_1= np.array(mask)\n",
    "            imgs, masks= [], []\n",
    "            imgs.append(img_1)\n",
    "            masks.append(mask_1)\n",
    "            for i in range(3):\n",
    "                while True:\n",
    "                    indx= np.random.randint(len(self.dataset))\n",
    "                    data= self.dataset.loc[indx]\n",
    "                    img_2, mask_2, organ_2= read_data(data, self.mode)\n",
    "                    if organ_2!='lung': break\n",
    "                imgs.append(img_2)\n",
    "                masks.append(mask_2)\n",
    "            img, mask= mosaic_aug(imgs[0].shape[0],\n",
    "                                  CFG['window_size'],\n",
    "                                  imgs[0], masks[0],\n",
    "                                  imgs[1], masks[1],\n",
    "                                  imgs[2], masks[2],\n",
    "                                  imgs[3], masks[3])\n",
    "            img= torch.tensor(img, dtype= torch.float32).permute(2,0,1)\n",
    "            \n",
    "        # use mixup\n",
    "        if self.mixup and np.random.rand() >= (1-self.mixup):\n",
    "            img_1= img.permute(1,2,0).numpy()\n",
    "            mask_1= np.array(mask)\n",
    "            indx= np.random.randint(len(self.dataset))\n",
    "            data= self.dataset.loc[indx]\n",
    "            img_2, mask_2= read_data(data)\n",
    "            img, mask= mixup_aug(img_1.shape[0], \n",
    "                                 CFG['window_size'],\n",
    "                                 img_1, mask_1, \n",
    "                                 img_2, mask_2)\n",
    "            img= torch.tensor(img, dtype= torch.float32).permute(2,0,1)\n",
    "            \n",
    "        # use cutmix\n",
    "        if self.cutmix and np.random.rand() >= (1-self.cutmix) and organ!='lung':\n",
    "            img_1= img.permute(1,2,0).numpy()\n",
    "            mask_1= np.array(mask)\n",
    "            while True:\n",
    "                indx= np.random.randint(len(self.dataset))\n",
    "                data= self.dataset.loc[indx]\n",
    "                img_2, mask_2, organ_2= read_data(data, self.mode)\n",
    "                if organ_2!='lung': break\n",
    "            img, mask= cutmix_aug(img_1.shape[0], \n",
    "                                  CFG['window_size'],\n",
    "                                  img_1, mask_1, \n",
    "                                  img_2, mask_2)\n",
    "            img= torch.tensor(img, dtype= torch.float32).permute(2,0,1)\n",
    "            \n",
    "        # use copypaste\n",
    "        if self.copypaste and np.random.rand() >= (1-self.copypaste):\n",
    "            img_1= img.permute(1,2,0).numpy()\n",
    "            mask_1= np.array(mask)\n",
    "            while True:\n",
    "                indx= np.random.randint(len(self.dataset))\n",
    "                data= self.dataset.loc[indx]\n",
    "                img_2, mask_2= read_data(data)\n",
    "                if mask_2.any(): break\n",
    "            img, mask= copy_paste(img_1.shape[0], \n",
    "                                  CFG['window_size'],\n",
    "                                  img_1, mask_1, \n",
    "                                  img_2, mask_2)\n",
    "            img= torch.tensor(img, dtype= torch.float32).permute(2,0,1)\n",
    "\n",
    "        mask= torch.tensor(mask, dtype= torch.float)\n",
    "        mask= mask.permute(2,0,1)\n",
    "\n",
    "        ## aux label\n",
    "        if CFG['aux']:\n",
    "            aux_label= np.zeros((len(mask),))\n",
    "            for i in range(len(mask)):\n",
    "                if mask[i].numpy().any(): \n",
    "                    aux_label[i]= 1\n",
    "        else:\n",
    "            aux_label= [-1]\n",
    "            \n",
    "        if CFG['amp']: return img/255, mask, aux_label\n",
    "        else: return img/255, mask\n",
    "    \n",
    "    def __len__(self):\n",
    "        return len(self.dataset)"
   ]
  },
  {
   "cell_type": "code",
   "execution_count": 4,
   "metadata": {},
   "outputs": [],
   "source": [
    "class custom_loss(nn.Module):\n",
    "    def  __init__(self):\n",
    "        super().__init__()\n",
    "        self.JaccardLoss = smp.losses.JaccardLoss(mode='multilabel')\n",
    "        self.DiceLoss    = smp.losses.DiceLoss(mode='binary', from_logits=True)\n",
    "        self.BCELoss     = smp.losses.SoftBCEWithLogitsLoss()\n",
    "        self.LovaszLoss  = smp.losses.LovaszLoss(mode='multilabel', per_image=False)\n",
    "        self.TverskyLoss = smp.losses.TverskyLoss(mode='multilabel', log_loss=False, from_logits=True)\n",
    "    \n",
    "    def forward(self, y_pred, y_true):\n",
    "        loss= 0.5*self.DiceLoss(y_pred, y_true) + 0.5*self.BCELoss(y_pred, y_true)\n",
    "        return loss"
   ]
  },
  {
   "cell_type": "code",
   "execution_count": 5,
   "metadata": {},
   "outputs": [],
   "source": [
    "def train_epoch_amp(dataloader, model, criterion, optimizer):\n",
    "    scaler= amp.GradScaler()\n",
    "    model.train()\n",
    "\n",
    "    ep_loss= []\n",
    "    for i, (imgs, masks, aux_labels) in enumerate(tqdm(dataloader)):\n",
    "\n",
    "        imgs= imgs.to('cuda')\n",
    "        masks= masks.to('cuda')\n",
    "        if CFG['aux']: aux_labels= aux_labels.to('cuda')\n",
    "        \n",
    "        with amp.autocast():\n",
    "            preds= model(imgs)\n",
    "            if CFG['aux']:\n",
    "                loss_1= criterion(preds[0], masks)\n",
    "                loss_2= criterion(preds[1], aux_labels)\n",
    "                loss= (1-CFG['aux'])*loss_1 + CFG['aux']*loss_2\n",
    "            else:\n",
    "                loss= criterion(preds, masks)\n",
    "            ep_loss.append(loss.item())\n",
    "            loss/= CFG['gradient_accumulation']\n",
    "            scaler.scale(loss).backward()\n",
    "            \n",
    "            if (i+1) % CFG['gradient_accumulation']== 0:\n",
    "                scaler.step(optimizer)\n",
    "                scaler.update()\n",
    "                optimizer.zero_grad()\n",
    "                \n",
    "    return np.mean(ep_loss)"
   ]
  },
  {
   "cell_type": "code",
   "execution_count": 6,
   "metadata": {},
   "outputs": [],
   "source": [
    "def valid_epoch_amp(dataloader, model, criterion):\n",
    "    model.eval()\n",
    "    \n",
    "    ep_loss= []\n",
    "    masks_dice= []\n",
    "    auxs_dice= []\n",
    "    for i, (imgs, masks, aux_label) in enumerate(tqdm(dataloader)):\n",
    "\n",
    "        imgs= imgs.to('cuda')\n",
    "        masks= masks.to('cuda')\n",
    "        if CFG['aux']: aux_label= aux_label.to('cuda')\n",
    "            \n",
    "        with torch.no_grad():\n",
    "            preds= sliding_window_inference(imgs, \n",
    "                                            (CFG['window_size'], CFG['window_size']), \n",
    "                                            sw_batch_size= 2, \n",
    "                                            predictor= model, \n",
    "                                            mode= 'gaussian',\n",
    "                                            overlap= 0.25)\n",
    "            if CFG['aux']:\n",
    "                loss_1= criterion(preds[0], masks)\n",
    "                loss_2= criterion(preds[1], aux_label)\n",
    "                loss= (1-CFG['aux'])*loss_1 + CFG['aux']*loss_2\n",
    "            else:\n",
    "                loss= criterion(preds, masks)\n",
    "            ep_loss.append(loss.item())\n",
    "            \n",
    "        ## evaluation\n",
    "        if CFG['aux']: pred_mask= preds[0].cpu()\n",
    "        else: pred_mask= preds.cpu()\n",
    "        mask_dice= dice( pred_mask, masks.cpu() )\n",
    "        masks_dice.append(mask_dice)\n",
    "            \n",
    "        if CFG['aux']:\n",
    "            pred_aux= preds[1].cpu()\n",
    "            aux_dice= dice( pred_aux, aux_label.cpu() )\n",
    "            auxs_dice.append(aux_dice)\n",
    "        \n",
    "    ## metrice\n",
    "    dice_mask= 1 - np.mean(masks_dice)\n",
    "    dice_aux= 1 - np.mean(auxs_dice) if CFG['aux'] else None\n",
    "        \n",
    "    return np.mean(ep_loss), dice_mask, dice_aux"
   ]
  },
  {
   "cell_type": "markdown",
   "metadata": {},
   "source": [
    "# CFG"
   ]
  },
  {
   "cell_type": "code",
   "execution_count": 7,
   "metadata": {},
   "outputs": [],
   "source": [
    "CFG= {\n",
    "    'fold': 0,\n",
    "    'epoch': 100,\n",
    "    'img_scale': 4,\n",
    "    'window_size': 768,\n",
    "    'model_name': 'timm-efficientnet-b7',\n",
    "    'aux': False,\n",
    "    'classes_balance': True,\n",
    "    'finetune': False,\n",
    "    'domain_mixup': True,\n",
    "    \n",
    "    'lr': 3e-4,\n",
    "    'weight_decay': 0,\n",
    "    'batch_size': 4,\n",
    "    'gradient_accumulation': 2,\n",
    "    'amp': True,\n",
    "    \n",
    "    'cutmix': 0.5,\n",
    "    'mixup': False,\n",
    "    'mosaic': 0.5,\n",
    "    'copypaste': False,\n",
    "    \n",
    "    'load_model': False,\n",
    "    'save_model': 'train_model',\n",
    "}\n",
    "if CFG['aux']!=False: CFG['amp']= True\n",
    "if CFG['finetune']:\n",
    "    print('finetune')\n",
    "    CFG['epoch']= 20\n",
    "    CFG['lr']= 5e-5\n",
    "    CFG['load_model']= f\"train_model/model_cv{CFG['fold']}_best.pth\"\n",
    "    \n",
    "# CFG['load_model']= f\"train_model/model_cv{CFG['fold']}_best.pth\""
   ]
  },
  {
   "cell_type": "markdown",
   "metadata": {},
   "source": [
    "# Prepare Dataset"
   ]
  },
  {
   "cell_type": "code",
   "execution_count": 8,
   "metadata": {},
   "outputs": [
    {
     "name": "stdout",
     "output_type": "stream",
     "text": [
      "balance classes\n",
      "train dataset: 395\n",
      "valid dataset: 71\n"
     ]
    },
    {
     "data": {
      "text/html": [
       "<div>\n",
       "<style scoped>\n",
       "    .dataframe tbody tr th:only-of-type {\n",
       "        vertical-align: middle;\n",
       "    }\n",
       "\n",
       "    .dataframe tbody tr th {\n",
       "        vertical-align: top;\n",
       "    }\n",
       "\n",
       "    .dataframe thead th {\n",
       "        text-align: right;\n",
       "    }\n",
       "</style>\n",
       "<table border=\"1\" class=\"dataframe\">\n",
       "  <thead>\n",
       "    <tr style=\"text-align: right;\">\n",
       "      <th></th>\n",
       "      <th>index</th>\n",
       "      <th>id</th>\n",
       "      <th>organ</th>\n",
       "      <th>data_source</th>\n",
       "      <th>img_height</th>\n",
       "      <th>img_width</th>\n",
       "      <th>pixel_size</th>\n",
       "      <th>tissue_thickness</th>\n",
       "      <th>rle</th>\n",
       "      <th>age</th>\n",
       "      <th>sex</th>\n",
       "      <th>image_path</th>\n",
       "      <th>fold</th>\n",
       "    </tr>\n",
       "  </thead>\n",
       "  <tbody>\n",
       "    <tr>\n",
       "      <th>0</th>\n",
       "      <td>0</td>\n",
       "      <td>10044</td>\n",
       "      <td>prostate</td>\n",
       "      <td>HPA</td>\n",
       "      <td>3000</td>\n",
       "      <td>3000</td>\n",
       "      <td>0.4</td>\n",
       "      <td>4</td>\n",
       "      <td>1459676 77 1462675 82 1465674 87 1468673 92 14...</td>\n",
       "      <td>37.0</td>\n",
       "      <td>Male</td>\n",
       "      <td>Data/train_images/10044.tiff</td>\n",
       "      <td>3</td>\n",
       "    </tr>\n",
       "    <tr>\n",
       "      <th>1</th>\n",
       "      <td>1</td>\n",
       "      <td>10274</td>\n",
       "      <td>prostate</td>\n",
       "      <td>HPA</td>\n",
       "      <td>3000</td>\n",
       "      <td>3000</td>\n",
       "      <td>0.4</td>\n",
       "      <td>4</td>\n",
       "      <td>715707 2 718705 8 721703 11 724701 18 727692 3...</td>\n",
       "      <td>76.0</td>\n",
       "      <td>Male</td>\n",
       "      <td>Data/train_images/10274.tiff</td>\n",
       "      <td>3</td>\n",
       "    </tr>\n",
       "    <tr>\n",
       "      <th>2</th>\n",
       "      <td>2</td>\n",
       "      <td>10392</td>\n",
       "      <td>spleen</td>\n",
       "      <td>HPA</td>\n",
       "      <td>3000</td>\n",
       "      <td>3000</td>\n",
       "      <td>0.4</td>\n",
       "      <td>4</td>\n",
       "      <td>1228631 20 1231629 24 1234624 40 1237623 47 12...</td>\n",
       "      <td>82.0</td>\n",
       "      <td>Male</td>\n",
       "      <td>Data/train_images/10392.tiff</td>\n",
       "      <td>4</td>\n",
       "    </tr>\n",
       "    <tr>\n",
       "      <th>3</th>\n",
       "      <td>3</td>\n",
       "      <td>10488</td>\n",
       "      <td>lung</td>\n",
       "      <td>HPA</td>\n",
       "      <td>3000</td>\n",
       "      <td>3000</td>\n",
       "      <td>0.4</td>\n",
       "      <td>4</td>\n",
       "      <td>3446519 15 3449517 17 3452514 20 3455510 24 34...</td>\n",
       "      <td>78.0</td>\n",
       "      <td>Male</td>\n",
       "      <td>Data/train_images/10488.tiff</td>\n",
       "      <td>4</td>\n",
       "    </tr>\n",
       "    <tr>\n",
       "      <th>4</th>\n",
       "      <td>4</td>\n",
       "      <td>10610</td>\n",
       "      <td>spleen</td>\n",
       "      <td>HPA</td>\n",
       "      <td>3000</td>\n",
       "      <td>3000</td>\n",
       "      <td>0.4</td>\n",
       "      <td>4</td>\n",
       "      <td>478925 68 481909 87 484893 105 487863 154 4908...</td>\n",
       "      <td>21.0</td>\n",
       "      <td>Female</td>\n",
       "      <td>Data/train_images/10610.tiff</td>\n",
       "      <td>1</td>\n",
       "    </tr>\n",
       "  </tbody>\n",
       "</table>\n",
       "</div>"
      ],
      "text/plain": [
       "   index     id     organ data_source  img_height  img_width  pixel_size  \\\n",
       "0      0  10044  prostate         HPA        3000       3000         0.4   \n",
       "1      1  10274  prostate         HPA        3000       3000         0.4   \n",
       "2      2  10392    spleen         HPA        3000       3000         0.4   \n",
       "3      3  10488      lung         HPA        3000       3000         0.4   \n",
       "4      4  10610    spleen         HPA        3000       3000         0.4   \n",
       "\n",
       "   tissue_thickness                                                rle   age  \\\n",
       "0                 4  1459676 77 1462675 82 1465674 87 1468673 92 14...  37.0   \n",
       "1                 4  715707 2 718705 8 721703 11 724701 18 727692 3...  76.0   \n",
       "2                 4  1228631 20 1231629 24 1234624 40 1237623 47 12...  82.0   \n",
       "3                 4  3446519 15 3449517 17 3452514 20 3455510 24 34...  78.0   \n",
       "4                 4  478925 68 481909 87 484893 105 487863 154 4908...  21.0   \n",
       "\n",
       "      sex                    image_path  fold  \n",
       "0    Male  Data/train_images/10044.tiff     3  \n",
       "1    Male  Data/train_images/10274.tiff     3  \n",
       "2    Male  Data/train_images/10392.tiff     4  \n",
       "3    Male  Data/train_images/10488.tiff     4  \n",
       "4  Female  Data/train_images/10610.tiff     1  "
      ]
     },
     "execution_count": 8,
     "metadata": {},
     "output_type": "execute_result"
    }
   ],
   "source": [
    "df= pd.read_csv('./Data/train.csv')\n",
    "\n",
    "## choose organ\n",
    "choose_organ= [\n",
    "    'lung',\n",
    "    'spleen',\n",
    "    'prostate',\n",
    "    'kidney',\n",
    "    'largeintestine'\n",
    "]\n",
    "df= df[df['organ'].isin(choose_organ)]\n",
    "\n",
    "train_df= df[df['fold']!=CFG['fold']].reset_index()\n",
    "valid_df= df[df['fold']==CFG['fold']].reset_index()\n",
    "\n",
    "## classes balance\n",
    "if CFG['classes_balance']:\n",
    "    print('balance classes')\n",
    "    max_sample= len(train_df[train_df['organ']=='kidney'])\n",
    "    for organ in choose_organ:\n",
    "        fill_num= max_sample - len(train_df[train_df['organ']==organ])\n",
    "        if fill_num:\n",
    "            df= train_df[train_df['organ']==organ].reset_index(drop=True)\n",
    "            try: sample_df= df.sample(n= fill_num, replace= False)\n",
    "            except: sample_df= df.sample(n= fill_num, replace= True)\n",
    "            train_df= pd.concat([train_df, sample_df], axis=0).reset_index(drop=True)\n",
    "\n",
    "print(f'train dataset: {len(train_df)}')\n",
    "print(f'valid dataset: {len(valid_df)}')\n",
    "\n",
    "train_dataset= custom_dataset(train_df,\n",
    "                              get_train_transform(),\n",
    "                              mode= 'train',\n",
    "                              cutmix= CFG['cutmix'],\n",
    "                              mixup= CFG['mixup'],\n",
    "                              mosaic= CFG['mosaic'],\n",
    "                              copypaste= CFG['copypaste'])\n",
    "valid_dataset= custom_dataset(valid_df, get_test_transform())\n",
    "\n",
    "train_loader = DataLoader(train_dataset, batch_size= CFG['batch_size'], shuffle=True, num_workers=0)\n",
    "valid_loader = DataLoader(valid_dataset, batch_size= 1, shuffle=False, num_workers=0)\n",
    "train_df.head()"
   ]
  },
  {
   "cell_type": "raw",
   "metadata": {},
   "source": [
    "train_dataset= custom_dataset(train_df,\n",
    "                              get_train_transform(),\n",
    "                              mode= 'train',\n",
    "                              cutmix= CFG['cutmix'],\n",
    "                              mixup= CFG['mixup'],\n",
    "                              mosaic= CFG['mosaic'],\n",
    "                              copypaste= CFG['copypaste'])\n",
    "\n",
    "data= train_dataset[3]\n",
    "img= data[0].permute(1,2,0).numpy()\n",
    "mask= data[1].permute(1,2,0).numpy()\n",
    "plt.imshow(img)\n",
    "plt.show()\n",
    "plt.imshow(mask)\n",
    "plt.show()"
   ]
  },
  {
   "cell_type": "markdown",
   "metadata": {},
   "source": [
    "# training"
   ]
  },
  {
   "cell_type": "code",
   "execution_count": 9,
   "metadata": {
    "scrolled": true
   },
   "outputs": [
    {
     "name": "stdout",
     "output_type": "stream",
     "text": [
      "\n",
      "Epoch: 1\n"
     ]
    },
    {
     "data": {
      "application/vnd.jupyter.widget-view+json": {
       "model_id": "529ec58943b94d36b2b4f3036fa934d6",
       "version_major": 2,
       "version_minor": 0
      },
      "text/plain": [
       "  0%|          | 0/99 [00:00<?, ?it/s]"
      ]
     },
     "metadata": {},
     "output_type": "display_data"
    },
    {
     "name": "stderr",
     "output_type": "stream",
     "text": [
      "C:\\Users\\foresight\\Anaconda3\\lib\\site-packages\\ipykernel_launcher.py:156: UserWarning: To copy construct from a tensor, it is recommended to use sourceTensor.clone().detach() or sourceTensor.clone().detach().requires_grad_(True), rather than torch.tensor(sourceTensor).\n"
     ]
    },
    {
     "data": {
      "application/vnd.jupyter.widget-view+json": {
       "model_id": "55186e0325ce41ad90e31dd6b69ce9f2",
       "version_major": 2,
       "version_minor": 0
      },
      "text/plain": [
       "  0%|          | 0/71 [00:00<?, ?it/s]"
      ]
     },
     "metadata": {},
     "output_type": "display_data"
    },
    {
     "name": "stdout",
     "output_type": "stream",
     "text": [
      "train_loss: 0.44382\n",
      "valid_loss: 0.30142,                vali_score: 0.53589,                valid_aux: None\n",
      "Model saved at:  0.53589\n",
      "\n",
      "Epoch: 2\n"
     ]
    },
    {
     "data": {
      "application/vnd.jupyter.widget-view+json": {
       "model_id": "fa9ea98b4d91487589dee8586fa90db8",
       "version_major": 2,
       "version_minor": 0
      },
      "text/plain": [
       "  0%|          | 0/99 [00:00<?, ?it/s]"
      ]
     },
     "metadata": {},
     "output_type": "display_data"
    },
    {
     "data": {
      "application/vnd.jupyter.widget-view+json": {
       "model_id": "0179a86d787341b1b798502a82d9d623",
       "version_major": 2,
       "version_minor": 0
      },
      "text/plain": [
       "  0%|          | 0/71 [00:00<?, ?it/s]"
      ]
     },
     "metadata": {},
     "output_type": "display_data"
    },
    {
     "name": "stdout",
     "output_type": "stream",
     "text": [
      "train_loss: 0.29125\n",
      "valid_loss: 0.27513,                vali_score: 0.58219,                valid_aux: None\n",
      "Model saved at:  0.58219\n",
      "\n",
      "Epoch: 3\n"
     ]
    },
    {
     "data": {
      "application/vnd.jupyter.widget-view+json": {
       "model_id": "6f852056de81483ba804fb3e4a7311d0",
       "version_major": 2,
       "version_minor": 0
      },
      "text/plain": [
       "  0%|          | 0/99 [00:00<?, ?it/s]"
      ]
     },
     "metadata": {},
     "output_type": "display_data"
    },
    {
     "data": {
      "application/vnd.jupyter.widget-view+json": {
       "model_id": "82706718a0f94f8aa20c97517c23e753",
       "version_major": 2,
       "version_minor": 0
      },
      "text/plain": [
       "  0%|          | 0/71 [00:00<?, ?it/s]"
      ]
     },
     "metadata": {},
     "output_type": "display_data"
    },
    {
     "name": "stdout",
     "output_type": "stream",
     "text": [
      "train_loss: 0.2516\n",
      "valid_loss: 0.22914,                vali_score: 0.6551,                valid_aux: None\n",
      "Model saved at:  0.6551\n",
      "\n",
      "Epoch: 4\n"
     ]
    },
    {
     "data": {
      "application/vnd.jupyter.widget-view+json": {
       "model_id": "c4a1bd615d9d43dd86a1968553ebbf2b",
       "version_major": 2,
       "version_minor": 0
      },
      "text/plain": [
       "  0%|          | 0/99 [00:00<?, ?it/s]"
      ]
     },
     "metadata": {},
     "output_type": "display_data"
    },
    {
     "data": {
      "application/vnd.jupyter.widget-view+json": {
       "model_id": "ec0ad3549cc444d580241763cd5caddb",
       "version_major": 2,
       "version_minor": 0
      },
      "text/plain": [
       "  0%|          | 0/71 [00:00<?, ?it/s]"
      ]
     },
     "metadata": {},
     "output_type": "display_data"
    },
    {
     "name": "stdout",
     "output_type": "stream",
     "text": [
      "train_loss: 0.21961\n",
      "valid_loss: 0.22102,                vali_score: 0.67756,                valid_aux: None\n",
      "Model saved at:  0.67756\n",
      "\n",
      "Epoch: 5\n"
     ]
    },
    {
     "data": {
      "application/vnd.jupyter.widget-view+json": {
       "model_id": "1f5549003d8d4134b353e3cf216b5172",
       "version_major": 2,
       "version_minor": 0
      },
      "text/plain": [
       "  0%|          | 0/99 [00:00<?, ?it/s]"
      ]
     },
     "metadata": {},
     "output_type": "display_data"
    },
    {
     "data": {
      "application/vnd.jupyter.widget-view+json": {
       "model_id": "ed0bce541f664f6da3ed2598820369db",
       "version_major": 2,
       "version_minor": 0
      },
      "text/plain": [
       "  0%|          | 0/71 [00:00<?, ?it/s]"
      ]
     },
     "metadata": {},
     "output_type": "display_data"
    },
    {
     "name": "stdout",
     "output_type": "stream",
     "text": [
      "train_loss: 0.20652\n",
      "valid_loss: 0.20501,                vali_score: 0.69279,                valid_aux: None\n",
      "Model saved at:  0.69279\n",
      "\n",
      "Epoch: 6\n"
     ]
    },
    {
     "data": {
      "application/vnd.jupyter.widget-view+json": {
       "model_id": "138945f077ea4ff38b8bf62d0e16347c",
       "version_major": 2,
       "version_minor": 0
      },
      "text/plain": [
       "  0%|          | 0/99 [00:00<?, ?it/s]"
      ]
     },
     "metadata": {},
     "output_type": "display_data"
    },
    {
     "data": {
      "application/vnd.jupyter.widget-view+json": {
       "model_id": "0f2de28d16e64c14b2fc867489800d1c",
       "version_major": 2,
       "version_minor": 0
      },
      "text/plain": [
       "  0%|          | 0/71 [00:00<?, ?it/s]"
      ]
     },
     "metadata": {},
     "output_type": "display_data"
    },
    {
     "name": "stdout",
     "output_type": "stream",
     "text": [
      "train_loss: 0.19668\n",
      "valid_loss: 0.19626,                vali_score: 0.71699,                valid_aux: None\n",
      "Model saved at:  0.71699\n",
      "\n",
      "Epoch: 7\n"
     ]
    },
    {
     "data": {
      "application/vnd.jupyter.widget-view+json": {
       "model_id": "44e7532c6acb4b2a8477cacb860541eb",
       "version_major": 2,
       "version_minor": 0
      },
      "text/plain": [
       "  0%|          | 0/99 [00:00<?, ?it/s]"
      ]
     },
     "metadata": {},
     "output_type": "display_data"
    },
    {
     "data": {
      "application/vnd.jupyter.widget-view+json": {
       "model_id": "1355b3a2896b4c1f8bd3a5895d66e980",
       "version_major": 2,
       "version_minor": 0
      },
      "text/plain": [
       "  0%|          | 0/71 [00:00<?, ?it/s]"
      ]
     },
     "metadata": {},
     "output_type": "display_data"
    },
    {
     "name": "stdout",
     "output_type": "stream",
     "text": [
      "train_loss: 0.18618\n",
      "valid_loss: 0.19651,                vali_score: 0.70995,                valid_aux: None\n",
      "\n",
      "Epoch: 8\n"
     ]
    },
    {
     "data": {
      "application/vnd.jupyter.widget-view+json": {
       "model_id": "ed643cdcef2b49119aae33de0da23a9b",
       "version_major": 2,
       "version_minor": 0
      },
      "text/plain": [
       "  0%|          | 0/99 [00:00<?, ?it/s]"
      ]
     },
     "metadata": {},
     "output_type": "display_data"
    },
    {
     "data": {
      "application/vnd.jupyter.widget-view+json": {
       "model_id": "becf2d5c3be7448797416d1cdb5f01b4",
       "version_major": 2,
       "version_minor": 0
      },
      "text/plain": [
       "  0%|          | 0/71 [00:00<?, ?it/s]"
      ]
     },
     "metadata": {},
     "output_type": "display_data"
    },
    {
     "name": "stdout",
     "output_type": "stream",
     "text": [
      "train_loss: 0.17718\n",
      "valid_loss: 0.18706,                vali_score: 0.72888,                valid_aux: None\n",
      "Model saved at:  0.72888\n",
      "\n",
      "Epoch: 9\n"
     ]
    },
    {
     "data": {
      "application/vnd.jupyter.widget-view+json": {
       "model_id": "3b50273602db4598acb9a0e5b197b053",
       "version_major": 2,
       "version_minor": 0
      },
      "text/plain": [
       "  0%|          | 0/99 [00:00<?, ?it/s]"
      ]
     },
     "metadata": {},
     "output_type": "display_data"
    },
    {
     "data": {
      "application/vnd.jupyter.widget-view+json": {
       "model_id": "a9c5fca41ba44a469e84ff3ea04ffee7",
       "version_major": 2,
       "version_minor": 0
      },
      "text/plain": [
       "  0%|          | 0/71 [00:00<?, ?it/s]"
      ]
     },
     "metadata": {},
     "output_type": "display_data"
    },
    {
     "name": "stdout",
     "output_type": "stream",
     "text": [
      "train_loss: 0.17904\n",
      "valid_loss: 0.17574,                vali_score: 0.7413,                valid_aux: None\n",
      "Model saved at:  0.7413\n",
      "\n",
      "Epoch: 10\n"
     ]
    },
    {
     "data": {
      "application/vnd.jupyter.widget-view+json": {
       "model_id": "ac1b28d1779b4845af60f8e2a9ed223b",
       "version_major": 2,
       "version_minor": 0
      },
      "text/plain": [
       "  0%|          | 0/99 [00:00<?, ?it/s]"
      ]
     },
     "metadata": {},
     "output_type": "display_data"
    },
    {
     "data": {
      "application/vnd.jupyter.widget-view+json": {
       "model_id": "064edebbff5743ce9062903ff2275317",
       "version_major": 2,
       "version_minor": 0
      },
      "text/plain": [
       "  0%|          | 0/71 [00:00<?, ?it/s]"
      ]
     },
     "metadata": {},
     "output_type": "display_data"
    },
    {
     "name": "stdout",
     "output_type": "stream",
     "text": [
      "train_loss: 0.16919\n",
      "valid_loss: 0.17708,                vali_score: 0.7399,                valid_aux: None\n",
      "\n",
      "Epoch: 11\n"
     ]
    },
    {
     "data": {
      "application/vnd.jupyter.widget-view+json": {
       "model_id": "83e2033474104e0ab51e4b35e4e03565",
       "version_major": 2,
       "version_minor": 0
      },
      "text/plain": [
       "  0%|          | 0/99 [00:00<?, ?it/s]"
      ]
     },
     "metadata": {},
     "output_type": "display_data"
    },
    {
     "data": {
      "application/vnd.jupyter.widget-view+json": {
       "model_id": "2549344557f1456192a8e3ab686e77fa",
       "version_major": 2,
       "version_minor": 0
      },
      "text/plain": [
       "  0%|          | 0/71 [00:00<?, ?it/s]"
      ]
     },
     "metadata": {},
     "output_type": "display_data"
    },
    {
     "name": "stdout",
     "output_type": "stream",
     "text": [
      "train_loss: 0.16598\n",
      "valid_loss: 0.17133,                vali_score: 0.7483,                valid_aux: None\n",
      "Model saved at:  0.7483\n",
      "\n",
      "Epoch: 12\n"
     ]
    },
    {
     "data": {
      "application/vnd.jupyter.widget-view+json": {
       "model_id": "429633bcb9b14477ac02580176aaa390",
       "version_major": 2,
       "version_minor": 0
      },
      "text/plain": [
       "  0%|          | 0/99 [00:00<?, ?it/s]"
      ]
     },
     "metadata": {},
     "output_type": "display_data"
    },
    {
     "data": {
      "application/vnd.jupyter.widget-view+json": {
       "model_id": "a60cf5f3babd4ab098284affe55fcfc1",
       "version_major": 2,
       "version_minor": 0
      },
      "text/plain": [
       "  0%|          | 0/71 [00:00<?, ?it/s]"
      ]
     },
     "metadata": {},
     "output_type": "display_data"
    },
    {
     "name": "stdout",
     "output_type": "stream",
     "text": [
      "train_loss: 0.1575\n",
      "valid_loss: 0.176,                vali_score: 0.74439,                valid_aux: None\n",
      "\n",
      "Epoch: 13\n"
     ]
    },
    {
     "data": {
      "application/vnd.jupyter.widget-view+json": {
       "model_id": "3c868a99d0584bd68f3a4cc950508a08",
       "version_major": 2,
       "version_minor": 0
      },
      "text/plain": [
       "  0%|          | 0/99 [00:00<?, ?it/s]"
      ]
     },
     "metadata": {},
     "output_type": "display_data"
    },
    {
     "data": {
      "application/vnd.jupyter.widget-view+json": {
       "model_id": "3c2febd74a7e44b48c5cb7a0117954c9",
       "version_major": 2,
       "version_minor": 0
      },
      "text/plain": [
       "  0%|          | 0/71 [00:00<?, ?it/s]"
      ]
     },
     "metadata": {},
     "output_type": "display_data"
    },
    {
     "name": "stdout",
     "output_type": "stream",
     "text": [
      "train_loss: 0.14867\n",
      "valid_loss: 0.17598,                vali_score: 0.74727,                valid_aux: None\n",
      "\n",
      "Epoch: 14\n"
     ]
    },
    {
     "data": {
      "application/vnd.jupyter.widget-view+json": {
       "model_id": "5460ba9728cc47e88ddfadc8e20f1e6c",
       "version_major": 2,
       "version_minor": 0
      },
      "text/plain": [
       "  0%|          | 0/99 [00:00<?, ?it/s]"
      ]
     },
     "metadata": {},
     "output_type": "display_data"
    },
    {
     "data": {
      "application/vnd.jupyter.widget-view+json": {
       "model_id": "c6fa07b34f57496c94b705d1584d06bc",
       "version_major": 2,
       "version_minor": 0
      },
      "text/plain": [
       "  0%|          | 0/71 [00:00<?, ?it/s]"
      ]
     },
     "metadata": {},
     "output_type": "display_data"
    },
    {
     "name": "stdout",
     "output_type": "stream",
     "text": [
      "train_loss: 0.14415\n",
      "valid_loss: 0.1897,                vali_score: 0.73074,                valid_aux: None\n",
      "\n",
      "Epoch: 15\n"
     ]
    },
    {
     "data": {
      "application/vnd.jupyter.widget-view+json": {
       "model_id": "3dddb55f340d491a832b9a6a67b22376",
       "version_major": 2,
       "version_minor": 0
      },
      "text/plain": [
       "  0%|          | 0/99 [00:00<?, ?it/s]"
      ]
     },
     "metadata": {},
     "output_type": "display_data"
    },
    {
     "data": {
      "application/vnd.jupyter.widget-view+json": {
       "model_id": "b751b3544d01435eb6406be175bd1864",
       "version_major": 2,
       "version_minor": 0
      },
      "text/plain": [
       "  0%|          | 0/71 [00:00<?, ?it/s]"
      ]
     },
     "metadata": {},
     "output_type": "display_data"
    },
    {
     "name": "stdout",
     "output_type": "stream",
     "text": [
      "train_loss: 0.14556\n",
      "valid_loss: 0.17038,                vali_score: 0.75436,                valid_aux: None\n",
      "Model saved at:  0.75436\n",
      "\n",
      "Epoch: 16\n"
     ]
    },
    {
     "data": {
      "application/vnd.jupyter.widget-view+json": {
       "model_id": "c37ccfd36a0f444b8b34b7dc7101aa02",
       "version_major": 2,
       "version_minor": 0
      },
      "text/plain": [
       "  0%|          | 0/99 [00:00<?, ?it/s]"
      ]
     },
     "metadata": {},
     "output_type": "display_data"
    },
    {
     "data": {
      "application/vnd.jupyter.widget-view+json": {
       "model_id": "149fa051d1f64c659801d1d14b76532b",
       "version_major": 2,
       "version_minor": 0
      },
      "text/plain": [
       "  0%|          | 0/71 [00:00<?, ?it/s]"
      ]
     },
     "metadata": {},
     "output_type": "display_data"
    },
    {
     "name": "stdout",
     "output_type": "stream",
     "text": [
      "train_loss: 0.13952\n",
      "valid_loss: 0.17793,                vali_score: 0.74769,                valid_aux: None\n",
      "\n",
      "Epoch: 17\n"
     ]
    },
    {
     "data": {
      "application/vnd.jupyter.widget-view+json": {
       "model_id": "3060347f4848406f9d0b0b0a409841be",
       "version_major": 2,
       "version_minor": 0
      },
      "text/plain": [
       "  0%|          | 0/99 [00:00<?, ?it/s]"
      ]
     },
     "metadata": {},
     "output_type": "display_data"
    },
    {
     "data": {
      "application/vnd.jupyter.widget-view+json": {
       "model_id": "c5b4bd8d1c824b31a997fc8c4a29819d",
       "version_major": 2,
       "version_minor": 0
      },
      "text/plain": [
       "  0%|          | 0/71 [00:00<?, ?it/s]"
      ]
     },
     "metadata": {},
     "output_type": "display_data"
    },
    {
     "name": "stdout",
     "output_type": "stream",
     "text": [
      "train_loss: 0.13676\n",
      "valid_loss: 0.17437,                vali_score: 0.75135,                valid_aux: None\n",
      "\n",
      "Epoch: 18\n"
     ]
    },
    {
     "data": {
      "application/vnd.jupyter.widget-view+json": {
       "model_id": "e9b28bf33dee47718a404e1c781c4cf2",
       "version_major": 2,
       "version_minor": 0
      },
      "text/plain": [
       "  0%|          | 0/99 [00:00<?, ?it/s]"
      ]
     },
     "metadata": {},
     "output_type": "display_data"
    },
    {
     "data": {
      "application/vnd.jupyter.widget-view+json": {
       "model_id": "e39f3845f2204ed49a1ee1309d12e8e4",
       "version_major": 2,
       "version_minor": 0
      },
      "text/plain": [
       "  0%|          | 0/71 [00:00<?, ?it/s]"
      ]
     },
     "metadata": {},
     "output_type": "display_data"
    },
    {
     "name": "stdout",
     "output_type": "stream",
     "text": [
      "train_loss: 0.13111\n",
      "valid_loss: 0.17965,                vali_score: 0.74548,                valid_aux: None\n",
      "\n",
      "Epoch: 19\n"
     ]
    },
    {
     "data": {
      "application/vnd.jupyter.widget-view+json": {
       "model_id": "5229e401bb104fd48db311068ad7bb4f",
       "version_major": 2,
       "version_minor": 0
      },
      "text/plain": [
       "  0%|          | 0/99 [00:00<?, ?it/s]"
      ]
     },
     "metadata": {},
     "output_type": "display_data"
    },
    {
     "data": {
      "application/vnd.jupyter.widget-view+json": {
       "model_id": "cefa634da09f4c7888575eeb35e03601",
       "version_major": 2,
       "version_minor": 0
      },
      "text/plain": [
       "  0%|          | 0/71 [00:00<?, ?it/s]"
      ]
     },
     "metadata": {},
     "output_type": "display_data"
    },
    {
     "name": "stdout",
     "output_type": "stream",
     "text": [
      "train_loss: 0.12391\n",
      "valid_loss: 0.17603,                vali_score: 0.74628,                valid_aux: None\n",
      "\n",
      "Epoch: 20\n"
     ]
    },
    {
     "data": {
      "application/vnd.jupyter.widget-view+json": {
       "model_id": "868f0db5183941c9ac5c5e07d0b0a1a8",
       "version_major": 2,
       "version_minor": 0
      },
      "text/plain": [
       "  0%|          | 0/99 [00:00<?, ?it/s]"
      ]
     },
     "metadata": {},
     "output_type": "display_data"
    },
    {
     "data": {
      "application/vnd.jupyter.widget-view+json": {
       "model_id": "f0d3b472b0d94a43990586e6e15bb26f",
       "version_major": 2,
       "version_minor": 0
      },
      "text/plain": [
       "  0%|          | 0/71 [00:00<?, ?it/s]"
      ]
     },
     "metadata": {},
     "output_type": "display_data"
    },
    {
     "name": "stdout",
     "output_type": "stream",
     "text": [
      "train_loss: 0.12667\n",
      "valid_loss: 0.16627,                vali_score: 0.75803,                valid_aux: None\n",
      "Model saved at:  0.75803\n",
      "\n",
      "Epoch: 21\n"
     ]
    },
    {
     "data": {
      "application/vnd.jupyter.widget-view+json": {
       "model_id": "4966bddffd924a6bafdbdbcf44cd1f6e",
       "version_major": 2,
       "version_minor": 0
      },
      "text/plain": [
       "  0%|          | 0/99 [00:00<?, ?it/s]"
      ]
     },
     "metadata": {},
     "output_type": "display_data"
    },
    {
     "data": {
      "application/vnd.jupyter.widget-view+json": {
       "model_id": "3b4c7242856a4a2bb1aad656d3dc91c1",
       "version_major": 2,
       "version_minor": 0
      },
      "text/plain": [
       "  0%|          | 0/71 [00:00<?, ?it/s]"
      ]
     },
     "metadata": {},
     "output_type": "display_data"
    },
    {
     "name": "stdout",
     "output_type": "stream",
     "text": [
      "train_loss: 0.1254\n",
      "valid_loss: 0.16715,                vali_score: 0.75782,                valid_aux: None\n",
      "\n",
      "Epoch: 22\n"
     ]
    },
    {
     "data": {
      "application/vnd.jupyter.widget-view+json": {
       "model_id": "4af4e8d8b4ab454ca535d731dc49dc63",
       "version_major": 2,
       "version_minor": 0
      },
      "text/plain": [
       "  0%|          | 0/99 [00:00<?, ?it/s]"
      ]
     },
     "metadata": {},
     "output_type": "display_data"
    },
    {
     "data": {
      "application/vnd.jupyter.widget-view+json": {
       "model_id": "c6a94220d3d24affa0ec8d30a2dea3e1",
       "version_major": 2,
       "version_minor": 0
      },
      "text/plain": [
       "  0%|          | 0/71 [00:00<?, ?it/s]"
      ]
     },
     "metadata": {},
     "output_type": "display_data"
    },
    {
     "name": "stdout",
     "output_type": "stream",
     "text": [
      "train_loss: 0.12183\n",
      "valid_loss: 0.18452,                vali_score: 0.74923,                valid_aux: None\n",
      "\n",
      "Epoch: 23\n"
     ]
    },
    {
     "data": {
      "application/vnd.jupyter.widget-view+json": {
       "model_id": "17bd6fddd6b04c139764cb19859f6595",
       "version_major": 2,
       "version_minor": 0
      },
      "text/plain": [
       "  0%|          | 0/99 [00:00<?, ?it/s]"
      ]
     },
     "metadata": {},
     "output_type": "display_data"
    },
    {
     "data": {
      "application/vnd.jupyter.widget-view+json": {
       "model_id": "f1df3a834699476b99f357afca67b44b",
       "version_major": 2,
       "version_minor": 0
      },
      "text/plain": [
       "  0%|          | 0/71 [00:00<?, ?it/s]"
      ]
     },
     "metadata": {},
     "output_type": "display_data"
    },
    {
     "name": "stdout",
     "output_type": "stream",
     "text": [
      "train_loss: 0.12263\n",
      "valid_loss: 0.16603,                vali_score: 0.76261,                valid_aux: None\n",
      "Model saved at:  0.76261\n",
      "\n",
      "Epoch: 24\n"
     ]
    },
    {
     "data": {
      "application/vnd.jupyter.widget-view+json": {
       "model_id": "c84b7fdfe3514c37ad5c7d5309339124",
       "version_major": 2,
       "version_minor": 0
      },
      "text/plain": [
       "  0%|          | 0/99 [00:00<?, ?it/s]"
      ]
     },
     "metadata": {},
     "output_type": "display_data"
    },
    {
     "data": {
      "application/vnd.jupyter.widget-view+json": {
       "model_id": "4ea0ecbf240a49caa3ce4a2dd3c10ec8",
       "version_major": 2,
       "version_minor": 0
      },
      "text/plain": [
       "  0%|          | 0/71 [00:00<?, ?it/s]"
      ]
     },
     "metadata": {},
     "output_type": "display_data"
    },
    {
     "name": "stdout",
     "output_type": "stream",
     "text": [
      "train_loss: 0.12642\n",
      "valid_loss: 0.17608,                vali_score: 0.74835,                valid_aux: None\n",
      "\n",
      "Epoch: 25\n"
     ]
    },
    {
     "data": {
      "application/vnd.jupyter.widget-view+json": {
       "model_id": "0171e8b2082c4bb98f50d4ded6d0a81a",
       "version_major": 2,
       "version_minor": 0
      },
      "text/plain": [
       "  0%|          | 0/99 [00:00<?, ?it/s]"
      ]
     },
     "metadata": {},
     "output_type": "display_data"
    },
    {
     "data": {
      "application/vnd.jupyter.widget-view+json": {
       "model_id": "072c8db689a74e239fe0707205bfa2d9",
       "version_major": 2,
       "version_minor": 0
      },
      "text/plain": [
       "  0%|          | 0/71 [00:00<?, ?it/s]"
      ]
     },
     "metadata": {},
     "output_type": "display_data"
    },
    {
     "name": "stdout",
     "output_type": "stream",
     "text": [
      "train_loss: 0.12296\n",
      "valid_loss: 0.17678,                vali_score: 0.74796,                valid_aux: None\n",
      "\n",
      "Epoch: 26\n"
     ]
    },
    {
     "data": {
      "application/vnd.jupyter.widget-view+json": {
       "model_id": "ad17c771af554d7f8b8a198dc8714205",
       "version_major": 2,
       "version_minor": 0
      },
      "text/plain": [
       "  0%|          | 0/99 [00:00<?, ?it/s]"
      ]
     },
     "metadata": {},
     "output_type": "display_data"
    },
    {
     "data": {
      "application/vnd.jupyter.widget-view+json": {
       "model_id": "1e011a0c6bc741bc8a76aed17a07f2f3",
       "version_major": 2,
       "version_minor": 0
      },
      "text/plain": [
       "  0%|          | 0/71 [00:00<?, ?it/s]"
      ]
     },
     "metadata": {},
     "output_type": "display_data"
    },
    {
     "name": "stdout",
     "output_type": "stream",
     "text": [
      "train_loss: 0.11323\n",
      "valid_loss: 0.18139,                vali_score: 0.74671,                valid_aux: None\n",
      "\n",
      "Epoch: 27\n"
     ]
    },
    {
     "data": {
      "application/vnd.jupyter.widget-view+json": {
       "model_id": "d83a422f7cd54c86afaf0884178de457",
       "version_major": 2,
       "version_minor": 0
      },
      "text/plain": [
       "  0%|          | 0/99 [00:00<?, ?it/s]"
      ]
     },
     "metadata": {},
     "output_type": "display_data"
    },
    {
     "data": {
      "application/vnd.jupyter.widget-view+json": {
       "model_id": "c56d8a99f3c646048d7b5de8e12bd9c3",
       "version_major": 2,
       "version_minor": 0
      },
      "text/plain": [
       "  0%|          | 0/71 [00:00<?, ?it/s]"
      ]
     },
     "metadata": {},
     "output_type": "display_data"
    },
    {
     "name": "stdout",
     "output_type": "stream",
     "text": [
      "train_loss: 0.11808\n",
      "valid_loss: 0.17132,                vali_score: 0.75995,                valid_aux: None\n",
      "\n",
      "Epoch: 28\n"
     ]
    },
    {
     "data": {
      "application/vnd.jupyter.widget-view+json": {
       "model_id": "e1d16cdfb77141cfa6bb158135a7e6b2",
       "version_major": 2,
       "version_minor": 0
      },
      "text/plain": [
       "  0%|          | 0/99 [00:00<?, ?it/s]"
      ]
     },
     "metadata": {},
     "output_type": "display_data"
    },
    {
     "data": {
      "application/vnd.jupyter.widget-view+json": {
       "model_id": "6c89ff39367043b3ad429cfddea12d74",
       "version_major": 2,
       "version_minor": 0
      },
      "text/plain": [
       "  0%|          | 0/71 [00:00<?, ?it/s]"
      ]
     },
     "metadata": {},
     "output_type": "display_data"
    },
    {
     "name": "stdout",
     "output_type": "stream",
     "text": [
      "train_loss: 0.11523\n",
      "valid_loss: 0.16536,                vali_score: 0.76725,                valid_aux: None\n",
      "Model saved at:  0.76725\n",
      "\n",
      "Epoch: 29\n"
     ]
    },
    {
     "data": {
      "application/vnd.jupyter.widget-view+json": {
       "model_id": "c315025530e34111826b3affaafae6d9",
       "version_major": 2,
       "version_minor": 0
      },
      "text/plain": [
       "  0%|          | 0/99 [00:00<?, ?it/s]"
      ]
     },
     "metadata": {},
     "output_type": "display_data"
    },
    {
     "data": {
      "application/vnd.jupyter.widget-view+json": {
       "model_id": "0943ee3872334c8bbd15fd7a766cdde5",
       "version_major": 2,
       "version_minor": 0
      },
      "text/plain": [
       "  0%|          | 0/71 [00:00<?, ?it/s]"
      ]
     },
     "metadata": {},
     "output_type": "display_data"
    },
    {
     "name": "stdout",
     "output_type": "stream",
     "text": [
      "train_loss: 0.11244\n",
      "valid_loss: 0.17666,                vali_score: 0.75728,                valid_aux: None\n",
      "\n",
      "Epoch: 30\n"
     ]
    },
    {
     "data": {
      "application/vnd.jupyter.widget-view+json": {
       "model_id": "5a47eda093c74ca48811ecdfc39b4f3d",
       "version_major": 2,
       "version_minor": 0
      },
      "text/plain": [
       "  0%|          | 0/99 [00:00<?, ?it/s]"
      ]
     },
     "metadata": {},
     "output_type": "display_data"
    },
    {
     "data": {
      "application/vnd.jupyter.widget-view+json": {
       "model_id": "5b0f3c15338d4d9faacced7fb10799f4",
       "version_major": 2,
       "version_minor": 0
      },
      "text/plain": [
       "  0%|          | 0/71 [00:00<?, ?it/s]"
      ]
     },
     "metadata": {},
     "output_type": "display_data"
    },
    {
     "name": "stdout",
     "output_type": "stream",
     "text": [
      "train_loss: 0.10541\n",
      "valid_loss: 0.1606,                vali_score: 0.77599,                valid_aux: None\n",
      "Model saved at:  0.77599\n",
      "\n",
      "Epoch: 31\n"
     ]
    },
    {
     "data": {
      "application/vnd.jupyter.widget-view+json": {
       "model_id": "35ea2ce5059644f3a2964e98431cdf71",
       "version_major": 2,
       "version_minor": 0
      },
      "text/plain": [
       "  0%|          | 0/99 [00:00<?, ?it/s]"
      ]
     },
     "metadata": {},
     "output_type": "display_data"
    },
    {
     "data": {
      "application/vnd.jupyter.widget-view+json": {
       "model_id": "000ed945fce54a038300d6b859b2913d",
       "version_major": 2,
       "version_minor": 0
      },
      "text/plain": [
       "  0%|          | 0/71 [00:00<?, ?it/s]"
      ]
     },
     "metadata": {},
     "output_type": "display_data"
    },
    {
     "name": "stdout",
     "output_type": "stream",
     "text": [
      "train_loss: 0.11105\n",
      "valid_loss: 0.17189,                vali_score: 0.77155,                valid_aux: None\n",
      "\n",
      "Epoch: 32\n"
     ]
    },
    {
     "data": {
      "application/vnd.jupyter.widget-view+json": {
       "model_id": "cfbc319de82149098250bc5efa62395f",
       "version_major": 2,
       "version_minor": 0
      },
      "text/plain": [
       "  0%|          | 0/99 [00:00<?, ?it/s]"
      ]
     },
     "metadata": {},
     "output_type": "display_data"
    },
    {
     "data": {
      "application/vnd.jupyter.widget-view+json": {
       "model_id": "71a0a07b87bc4634a2b2df473bb71809",
       "version_major": 2,
       "version_minor": 0
      },
      "text/plain": [
       "  0%|          | 0/71 [00:00<?, ?it/s]"
      ]
     },
     "metadata": {},
     "output_type": "display_data"
    },
    {
     "name": "stdout",
     "output_type": "stream",
     "text": [
      "train_loss: 0.11244\n",
      "valid_loss: 0.18401,                vali_score: 0.75506,                valid_aux: None\n",
      "\n",
      "Epoch: 33\n"
     ]
    },
    {
     "data": {
      "application/vnd.jupyter.widget-view+json": {
       "model_id": "b9c43e37840e47fface8214019a0b6b6",
       "version_major": 2,
       "version_minor": 0
      },
      "text/plain": [
       "  0%|          | 0/99 [00:00<?, ?it/s]"
      ]
     },
     "metadata": {},
     "output_type": "display_data"
    },
    {
     "data": {
      "application/vnd.jupyter.widget-view+json": {
       "model_id": "5800908a2eaa4d0385ce6b2e2698c138",
       "version_major": 2,
       "version_minor": 0
      },
      "text/plain": [
       "  0%|          | 0/71 [00:00<?, ?it/s]"
      ]
     },
     "metadata": {},
     "output_type": "display_data"
    },
    {
     "name": "stdout",
     "output_type": "stream",
     "text": [
      "train_loss: 0.12239\n",
      "valid_loss: 0.16567,                vali_score: 0.7637,                valid_aux: None\n",
      "\n",
      "Epoch: 34\n"
     ]
    },
    {
     "data": {
      "application/vnd.jupyter.widget-view+json": {
       "model_id": "c66f829fe58549768dabd93645cc2555",
       "version_major": 2,
       "version_minor": 0
      },
      "text/plain": [
       "  0%|          | 0/99 [00:00<?, ?it/s]"
      ]
     },
     "metadata": {},
     "output_type": "display_data"
    },
    {
     "data": {
      "application/vnd.jupyter.widget-view+json": {
       "model_id": "0cf5360528cd4a69ac18b1f46a384698",
       "version_major": 2,
       "version_minor": 0
      },
      "text/plain": [
       "  0%|          | 0/71 [00:00<?, ?it/s]"
      ]
     },
     "metadata": {},
     "output_type": "display_data"
    },
    {
     "name": "stdout",
     "output_type": "stream",
     "text": [
      "train_loss: 0.1109\n",
      "valid_loss: 0.16465,                vali_score: 0.76587,                valid_aux: None\n",
      "\n",
      "Epoch: 35\n"
     ]
    },
    {
     "data": {
      "application/vnd.jupyter.widget-view+json": {
       "model_id": "55daa867ba7d4466b4070484762b1ec1",
       "version_major": 2,
       "version_minor": 0
      },
      "text/plain": [
       "  0%|          | 0/99 [00:00<?, ?it/s]"
      ]
     },
     "metadata": {},
     "output_type": "display_data"
    },
    {
     "data": {
      "application/vnd.jupyter.widget-view+json": {
       "model_id": "b199b3d017d04daebb1b65583a35bcf0",
       "version_major": 2,
       "version_minor": 0
      },
      "text/plain": [
       "  0%|          | 0/71 [00:00<?, ?it/s]"
      ]
     },
     "metadata": {},
     "output_type": "display_data"
    },
    {
     "name": "stdout",
     "output_type": "stream",
     "text": [
      "train_loss: 0.11493\n",
      "valid_loss: 0.16773,                vali_score: 0.76749,                valid_aux: None\n",
      "\n",
      "Epoch: 36\n"
     ]
    },
    {
     "data": {
      "application/vnd.jupyter.widget-view+json": {
       "model_id": "64c80ee7a03043888936609710ac3dee",
       "version_major": 2,
       "version_minor": 0
      },
      "text/plain": [
       "  0%|          | 0/99 [00:00<?, ?it/s]"
      ]
     },
     "metadata": {},
     "output_type": "display_data"
    },
    {
     "data": {
      "application/vnd.jupyter.widget-view+json": {
       "model_id": "9e7c0faf7fec4ad18cc60a9f745f2e7b",
       "version_major": 2,
       "version_minor": 0
      },
      "text/plain": [
       "  0%|          | 0/71 [00:00<?, ?it/s]"
      ]
     },
     "metadata": {},
     "output_type": "display_data"
    },
    {
     "name": "stdout",
     "output_type": "stream",
     "text": [
      "train_loss: 0.10357\n",
      "valid_loss: 0.1771,                vali_score: 0.75415,                valid_aux: None\n",
      "\n",
      "Epoch: 37\n"
     ]
    },
    {
     "data": {
      "application/vnd.jupyter.widget-view+json": {
       "model_id": "d7335bc3aa0c4668a70c03fb0a3218cb",
       "version_major": 2,
       "version_minor": 0
      },
      "text/plain": [
       "  0%|          | 0/99 [00:00<?, ?it/s]"
      ]
     },
     "metadata": {},
     "output_type": "display_data"
    },
    {
     "data": {
      "application/vnd.jupyter.widget-view+json": {
       "model_id": "cb9c8bd08f9a4f369f2cc23142f2ada2",
       "version_major": 2,
       "version_minor": 0
      },
      "text/plain": [
       "  0%|          | 0/71 [00:00<?, ?it/s]"
      ]
     },
     "metadata": {},
     "output_type": "display_data"
    },
    {
     "name": "stdout",
     "output_type": "stream",
     "text": [
      "train_loss: 0.10358\n",
      "valid_loss: 0.1859,                vali_score: 0.74904,                valid_aux: None\n",
      "\n",
      "Epoch: 38\n"
     ]
    },
    {
     "data": {
      "application/vnd.jupyter.widget-view+json": {
       "model_id": "e70798b32a8b4c4695e55e4d6011df79",
       "version_major": 2,
       "version_minor": 0
      },
      "text/plain": [
       "  0%|          | 0/99 [00:00<?, ?it/s]"
      ]
     },
     "metadata": {},
     "output_type": "display_data"
    },
    {
     "data": {
      "application/vnd.jupyter.widget-view+json": {
       "model_id": "dec255677e5540d59751704536f278fd",
       "version_major": 2,
       "version_minor": 0
      },
      "text/plain": [
       "  0%|          | 0/71 [00:00<?, ?it/s]"
      ]
     },
     "metadata": {},
     "output_type": "display_data"
    },
    {
     "name": "stdout",
     "output_type": "stream",
     "text": [
      "train_loss: 0.10303\n",
      "valid_loss: 0.15878,                vali_score: 0.77591,                valid_aux: None\n",
      "\n",
      "Epoch: 39\n"
     ]
    },
    {
     "data": {
      "application/vnd.jupyter.widget-view+json": {
       "model_id": "337afb5da2eb495daf0b498ad7d2a6e6",
       "version_major": 2,
       "version_minor": 0
      },
      "text/plain": [
       "  0%|          | 0/99 [00:00<?, ?it/s]"
      ]
     },
     "metadata": {},
     "output_type": "display_data"
    },
    {
     "data": {
      "application/vnd.jupyter.widget-view+json": {
       "model_id": "c653b8d1dd904da0981edc0c8cea9154",
       "version_major": 2,
       "version_minor": 0
      },
      "text/plain": [
       "  0%|          | 0/71 [00:00<?, ?it/s]"
      ]
     },
     "metadata": {},
     "output_type": "display_data"
    },
    {
     "name": "stdout",
     "output_type": "stream",
     "text": [
      "train_loss: 0.10023\n",
      "valid_loss: 0.17548,                vali_score: 0.75713,                valid_aux: None\n",
      "\n",
      "Epoch: 40\n"
     ]
    },
    {
     "data": {
      "application/vnd.jupyter.widget-view+json": {
       "model_id": "89f2258e2aad48018d19e7c1aa9c5f9f",
       "version_major": 2,
       "version_minor": 0
      },
      "text/plain": [
       "  0%|          | 0/99 [00:00<?, ?it/s]"
      ]
     },
     "metadata": {},
     "output_type": "display_data"
    },
    {
     "data": {
      "application/vnd.jupyter.widget-view+json": {
       "model_id": "19e838cd74ae4dde88bbd7cc969fcdf6",
       "version_major": 2,
       "version_minor": 0
      },
      "text/plain": [
       "  0%|          | 0/71 [00:00<?, ?it/s]"
      ]
     },
     "metadata": {},
     "output_type": "display_data"
    },
    {
     "name": "stdout",
     "output_type": "stream",
     "text": [
      "train_loss: 0.09559\n",
      "valid_loss: 0.17326,                vali_score: 0.76478,                valid_aux: None\n",
      "\n",
      "Epoch: 41\n"
     ]
    },
    {
     "data": {
      "application/vnd.jupyter.widget-view+json": {
       "model_id": "172f7f98c00846a7a128c70501883eb2",
       "version_major": 2,
       "version_minor": 0
      },
      "text/plain": [
       "  0%|          | 0/99 [00:00<?, ?it/s]"
      ]
     },
     "metadata": {},
     "output_type": "display_data"
    },
    {
     "data": {
      "application/vnd.jupyter.widget-view+json": {
       "model_id": "af6882d887fa4ef986851cd9aec54832",
       "version_major": 2,
       "version_minor": 0
      },
      "text/plain": [
       "  0%|          | 0/71 [00:00<?, ?it/s]"
      ]
     },
     "metadata": {},
     "output_type": "display_data"
    },
    {
     "name": "stdout",
     "output_type": "stream",
     "text": [
      "train_loss: 0.09601\n",
      "valid_loss: 0.16776,                vali_score: 0.7731,                valid_aux: None\n",
      "\n",
      "Epoch: 42\n"
     ]
    },
    {
     "data": {
      "application/vnd.jupyter.widget-view+json": {
       "model_id": "9f2d78de21ee4b3e8a0ed72023861899",
       "version_major": 2,
       "version_minor": 0
      },
      "text/plain": [
       "  0%|          | 0/99 [00:00<?, ?it/s]"
      ]
     },
     "metadata": {},
     "output_type": "display_data"
    },
    {
     "data": {
      "application/vnd.jupyter.widget-view+json": {
       "model_id": "16dde60390e44e929d869eeb9e437654",
       "version_major": 2,
       "version_minor": 0
      },
      "text/plain": [
       "  0%|          | 0/71 [00:00<?, ?it/s]"
      ]
     },
     "metadata": {},
     "output_type": "display_data"
    },
    {
     "name": "stdout",
     "output_type": "stream",
     "text": [
      "train_loss: 0.09478\n",
      "valid_loss: 0.17471,                vali_score: 0.77001,                valid_aux: None\n",
      "\n",
      "Epoch: 43\n"
     ]
    },
    {
     "data": {
      "application/vnd.jupyter.widget-view+json": {
       "model_id": "b823effd9ac14d82a231d4f693b720b7",
       "version_major": 2,
       "version_minor": 0
      },
      "text/plain": [
       "  0%|          | 0/99 [00:00<?, ?it/s]"
      ]
     },
     "metadata": {},
     "output_type": "display_data"
    },
    {
     "data": {
      "application/vnd.jupyter.widget-view+json": {
       "model_id": "6eced08806064399a6e9dbe5fa55ce86",
       "version_major": 2,
       "version_minor": 0
      },
      "text/plain": [
       "  0%|          | 0/71 [00:00<?, ?it/s]"
      ]
     },
     "metadata": {},
     "output_type": "display_data"
    },
    {
     "name": "stdout",
     "output_type": "stream",
     "text": [
      "train_loss: 0.09551\n",
      "valid_loss: 0.16701,                vali_score: 0.77231,                valid_aux: None\n",
      "\n",
      "Epoch: 44\n"
     ]
    },
    {
     "data": {
      "application/vnd.jupyter.widget-view+json": {
       "model_id": "fce89385223e42c2bb7dba64a3b7f275",
       "version_major": 2,
       "version_minor": 0
      },
      "text/plain": [
       "  0%|          | 0/99 [00:00<?, ?it/s]"
      ]
     },
     "metadata": {},
     "output_type": "display_data"
    },
    {
     "data": {
      "application/vnd.jupyter.widget-view+json": {
       "model_id": "34bd40e2040a461680a2a78007e4c676",
       "version_major": 2,
       "version_minor": 0
      },
      "text/plain": [
       "  0%|          | 0/71 [00:00<?, ?it/s]"
      ]
     },
     "metadata": {},
     "output_type": "display_data"
    },
    {
     "name": "stdout",
     "output_type": "stream",
     "text": [
      "train_loss: 0.09952\n",
      "valid_loss: 0.17245,                vali_score: 0.7694,                valid_aux: None\n",
      "\n",
      "Epoch: 45\n"
     ]
    },
    {
     "data": {
      "application/vnd.jupyter.widget-view+json": {
       "model_id": "c6b6d5ede3da4a64b16ee9080a9c4171",
       "version_major": 2,
       "version_minor": 0
      },
      "text/plain": [
       "  0%|          | 0/99 [00:00<?, ?it/s]"
      ]
     },
     "metadata": {},
     "output_type": "display_data"
    },
    {
     "data": {
      "application/vnd.jupyter.widget-view+json": {
       "model_id": "126c49359b444733b26dbadcb7bb2fe1",
       "version_major": 2,
       "version_minor": 0
      },
      "text/plain": [
       "  0%|          | 0/71 [00:00<?, ?it/s]"
      ]
     },
     "metadata": {},
     "output_type": "display_data"
    },
    {
     "name": "stdout",
     "output_type": "stream",
     "text": [
      "train_loss: 0.11315\n",
      "valid_loss: 0.17296,                vali_score: 0.76647,                valid_aux: None\n",
      "\n",
      "Epoch: 46\n"
     ]
    },
    {
     "data": {
      "application/vnd.jupyter.widget-view+json": {
       "model_id": "99d121d17eef4a198c01325105f648c1",
       "version_major": 2,
       "version_minor": 0
      },
      "text/plain": [
       "  0%|          | 0/99 [00:00<?, ?it/s]"
      ]
     },
     "metadata": {},
     "output_type": "display_data"
    },
    {
     "data": {
      "application/vnd.jupyter.widget-view+json": {
       "model_id": "74139ef7146b4335a82e5dc44f9b4279",
       "version_major": 2,
       "version_minor": 0
      },
      "text/plain": [
       "  0%|          | 0/71 [00:00<?, ?it/s]"
      ]
     },
     "metadata": {},
     "output_type": "display_data"
    },
    {
     "name": "stdout",
     "output_type": "stream",
     "text": [
      "train_loss: 0.09825\n",
      "valid_loss: 0.16248,                vali_score: 0.77219,                valid_aux: None\n",
      "\n",
      "Epoch: 47\n"
     ]
    },
    {
     "data": {
      "application/vnd.jupyter.widget-view+json": {
       "model_id": "d978ea80d0084230aa6cab94b4dc2385",
       "version_major": 2,
       "version_minor": 0
      },
      "text/plain": [
       "  0%|          | 0/99 [00:00<?, ?it/s]"
      ]
     },
     "metadata": {},
     "output_type": "display_data"
    },
    {
     "data": {
      "application/vnd.jupyter.widget-view+json": {
       "model_id": "d7caabcbe9954bc9946b489dfb844a46",
       "version_major": 2,
       "version_minor": 0
      },
      "text/plain": [
       "  0%|          | 0/71 [00:00<?, ?it/s]"
      ]
     },
     "metadata": {},
     "output_type": "display_data"
    },
    {
     "name": "stdout",
     "output_type": "stream",
     "text": [
      "train_loss: 0.09328\n",
      "valid_loss: 0.14869,                vali_score: 0.78798,                valid_aux: None\n",
      "Model saved at:  0.78798\n",
      "\n",
      "Epoch: 48\n"
     ]
    },
    {
     "data": {
      "application/vnd.jupyter.widget-view+json": {
       "model_id": "ad3185b9fb5e4529b3da1e04b7b52e3f",
       "version_major": 2,
       "version_minor": 0
      },
      "text/plain": [
       "  0%|          | 0/99 [00:00<?, ?it/s]"
      ]
     },
     "metadata": {},
     "output_type": "display_data"
    },
    {
     "data": {
      "application/vnd.jupyter.widget-view+json": {
       "model_id": "181028df68fd4f5fb0c34c19ed354c8b",
       "version_major": 2,
       "version_minor": 0
      },
      "text/plain": [
       "  0%|          | 0/71 [00:00<?, ?it/s]"
      ]
     },
     "metadata": {},
     "output_type": "display_data"
    },
    {
     "name": "stdout",
     "output_type": "stream",
     "text": [
      "train_loss: 0.09626\n",
      "valid_loss: 0.1743,                vali_score: 0.75801,                valid_aux: None\n",
      "\n",
      "Epoch: 49\n"
     ]
    },
    {
     "data": {
      "application/vnd.jupyter.widget-view+json": {
       "model_id": "407e0397f5854a489aa8e57ca0af7692",
       "version_major": 2,
       "version_minor": 0
      },
      "text/plain": [
       "  0%|          | 0/99 [00:00<?, ?it/s]"
      ]
     },
     "metadata": {},
     "output_type": "display_data"
    },
    {
     "data": {
      "application/vnd.jupyter.widget-view+json": {
       "model_id": "df78e4e5cabd45b59989006d6bc37768",
       "version_major": 2,
       "version_minor": 0
      },
      "text/plain": [
       "  0%|          | 0/71 [00:00<?, ?it/s]"
      ]
     },
     "metadata": {},
     "output_type": "display_data"
    },
    {
     "name": "stdout",
     "output_type": "stream",
     "text": [
      "train_loss: 0.10951\n",
      "valid_loss: 0.20315,                vali_score: 0.72637,                valid_aux: None\n",
      "\n",
      "Epoch: 50\n"
     ]
    },
    {
     "data": {
      "application/vnd.jupyter.widget-view+json": {
       "model_id": "dd86096ae9a94d4db0dbace24e1edc01",
       "version_major": 2,
       "version_minor": 0
      },
      "text/plain": [
       "  0%|          | 0/99 [00:00<?, ?it/s]"
      ]
     },
     "metadata": {},
     "output_type": "display_data"
    },
    {
     "data": {
      "application/vnd.jupyter.widget-view+json": {
       "model_id": "5b2a248e1ea5483994e26047903d4189",
       "version_major": 2,
       "version_minor": 0
      },
      "text/plain": [
       "  0%|          | 0/71 [00:00<?, ?it/s]"
      ]
     },
     "metadata": {},
     "output_type": "display_data"
    },
    {
     "name": "stdout",
     "output_type": "stream",
     "text": [
      "train_loss: 0.11012\n",
      "valid_loss: 0.16552,                vali_score: 0.77774,                valid_aux: None\n",
      "\n",
      "Epoch: 51\n"
     ]
    },
    {
     "data": {
      "application/vnd.jupyter.widget-view+json": {
       "model_id": "6eebbf67f4d7437c9639ab405743b9a8",
       "version_major": 2,
       "version_minor": 0
      },
      "text/plain": [
       "  0%|          | 0/99 [00:00<?, ?it/s]"
      ]
     },
     "metadata": {},
     "output_type": "display_data"
    },
    {
     "data": {
      "application/vnd.jupyter.widget-view+json": {
       "model_id": "6ef7b487c6dd4fe4b5c80b31bf4e0973",
       "version_major": 2,
       "version_minor": 0
      },
      "text/plain": [
       "  0%|          | 0/71 [00:00<?, ?it/s]"
      ]
     },
     "metadata": {},
     "output_type": "display_data"
    },
    {
     "name": "stdout",
     "output_type": "stream",
     "text": [
      "train_loss: 0.09968\n",
      "valid_loss: 0.16973,                vali_score: 0.76638,                valid_aux: None\n",
      "\n",
      "Epoch: 52\n"
     ]
    },
    {
     "data": {
      "application/vnd.jupyter.widget-view+json": {
       "model_id": "cfc6e730a500473f95e9fb628a723002",
       "version_major": 2,
       "version_minor": 0
      },
      "text/plain": [
       "  0%|          | 0/99 [00:00<?, ?it/s]"
      ]
     },
     "metadata": {},
     "output_type": "display_data"
    },
    {
     "data": {
      "application/vnd.jupyter.widget-view+json": {
       "model_id": "f56fc47ab8e44f1b8d0d0fdd250c92d1",
       "version_major": 2,
       "version_minor": 0
      },
      "text/plain": [
       "  0%|          | 0/71 [00:00<?, ?it/s]"
      ]
     },
     "metadata": {},
     "output_type": "display_data"
    },
    {
     "name": "stdout",
     "output_type": "stream",
     "text": [
      "train_loss: 0.1009\n",
      "valid_loss: 0.18772,                vali_score: 0.74949,                valid_aux: None\n",
      "\n",
      "Epoch: 53\n"
     ]
    },
    {
     "data": {
      "application/vnd.jupyter.widget-view+json": {
       "model_id": "207b9ff07f6c44a3b083d21dc70b82af",
       "version_major": 2,
       "version_minor": 0
      },
      "text/plain": [
       "  0%|          | 0/99 [00:00<?, ?it/s]"
      ]
     },
     "metadata": {},
     "output_type": "display_data"
    },
    {
     "data": {
      "application/vnd.jupyter.widget-view+json": {
       "model_id": "3a9d75366f0649bbb3db3f25e2909619",
       "version_major": 2,
       "version_minor": 0
      },
      "text/plain": [
       "  0%|          | 0/71 [00:00<?, ?it/s]"
      ]
     },
     "metadata": {},
     "output_type": "display_data"
    },
    {
     "name": "stdout",
     "output_type": "stream",
     "text": [
      "train_loss: 0.10214\n",
      "valid_loss: 0.16741,                vali_score: 0.76975,                valid_aux: None\n",
      "\n",
      "Epoch: 54\n"
     ]
    },
    {
     "data": {
      "application/vnd.jupyter.widget-view+json": {
       "model_id": "754f6b2890f74dbbb928ed0b0c650f6a",
       "version_major": 2,
       "version_minor": 0
      },
      "text/plain": [
       "  0%|          | 0/99 [00:00<?, ?it/s]"
      ]
     },
     "metadata": {},
     "output_type": "display_data"
    },
    {
     "data": {
      "application/vnd.jupyter.widget-view+json": {
       "model_id": "96e6854ded8b4173924e3d7d1ae21d09",
       "version_major": 2,
       "version_minor": 0
      },
      "text/plain": [
       "  0%|          | 0/71 [00:00<?, ?it/s]"
      ]
     },
     "metadata": {},
     "output_type": "display_data"
    },
    {
     "name": "stdout",
     "output_type": "stream",
     "text": [
      "train_loss: 0.09608\n",
      "valid_loss: 0.15958,                vali_score: 0.77929,                valid_aux: None\n",
      "\n",
      "Epoch: 55\n"
     ]
    },
    {
     "data": {
      "application/vnd.jupyter.widget-view+json": {
       "model_id": "dbb2f385b3dd4a028c4f9ceef961ed74",
       "version_major": 2,
       "version_minor": 0
      },
      "text/plain": [
       "  0%|          | 0/99 [00:00<?, ?it/s]"
      ]
     },
     "metadata": {},
     "output_type": "display_data"
    },
    {
     "data": {
      "application/vnd.jupyter.widget-view+json": {
       "model_id": "c0b65e7a7b7f420f8f5a869cea839b6f",
       "version_major": 2,
       "version_minor": 0
      },
      "text/plain": [
       "  0%|          | 0/71 [00:00<?, ?it/s]"
      ]
     },
     "metadata": {},
     "output_type": "display_data"
    },
    {
     "name": "stdout",
     "output_type": "stream",
     "text": [
      "train_loss: 0.09266\n",
      "valid_loss: 0.15528,                vali_score: 0.78512,                valid_aux: None\n",
      "\n",
      "Epoch: 56\n"
     ]
    },
    {
     "data": {
      "application/vnd.jupyter.widget-view+json": {
       "model_id": "8617289b9d674a6a8e018af5d673851c",
       "version_major": 2,
       "version_minor": 0
      },
      "text/plain": [
       "  0%|          | 0/99 [00:00<?, ?it/s]"
      ]
     },
     "metadata": {},
     "output_type": "display_data"
    },
    {
     "data": {
      "application/vnd.jupyter.widget-view+json": {
       "model_id": "2f1607cf670a4af0a54c9d02865f170e",
       "version_major": 2,
       "version_minor": 0
      },
      "text/plain": [
       "  0%|          | 0/71 [00:00<?, ?it/s]"
      ]
     },
     "metadata": {},
     "output_type": "display_data"
    },
    {
     "name": "stdout",
     "output_type": "stream",
     "text": [
      "train_loss: 0.09372\n",
      "valid_loss: 0.15373,                vali_score: 0.79022,                valid_aux: None\n",
      "Model saved at:  0.79022\n",
      "\n",
      "Epoch: 57\n"
     ]
    },
    {
     "data": {
      "application/vnd.jupyter.widget-view+json": {
       "model_id": "980697c22ae14246b55cf75dc7f4e61e",
       "version_major": 2,
       "version_minor": 0
      },
      "text/plain": [
       "  0%|          | 0/99 [00:00<?, ?it/s]"
      ]
     },
     "metadata": {},
     "output_type": "display_data"
    },
    {
     "data": {
      "application/vnd.jupyter.widget-view+json": {
       "model_id": "e1b4df9eb6c14276aad7311f97b16e25",
       "version_major": 2,
       "version_minor": 0
      },
      "text/plain": [
       "  0%|          | 0/71 [00:00<?, ?it/s]"
      ]
     },
     "metadata": {},
     "output_type": "display_data"
    },
    {
     "name": "stdout",
     "output_type": "stream",
     "text": [
      "train_loss: 0.09302\n",
      "valid_loss: 0.15484,                vali_score: 0.79115,                valid_aux: None\n",
      "Model saved at:  0.79115\n",
      "\n",
      "Epoch: 58\n"
     ]
    },
    {
     "data": {
      "application/vnd.jupyter.widget-view+json": {
       "model_id": "a3bea2bd757f45aeb6165604b046da1d",
       "version_major": 2,
       "version_minor": 0
      },
      "text/plain": [
       "  0%|          | 0/99 [00:00<?, ?it/s]"
      ]
     },
     "metadata": {},
     "output_type": "display_data"
    },
    {
     "data": {
      "application/vnd.jupyter.widget-view+json": {
       "model_id": "35d0fa0b03874561a656f26d900ff1f5",
       "version_major": 2,
       "version_minor": 0
      },
      "text/plain": [
       "  0%|          | 0/71 [00:00<?, ?it/s]"
      ]
     },
     "metadata": {},
     "output_type": "display_data"
    },
    {
     "name": "stdout",
     "output_type": "stream",
     "text": [
      "train_loss: 0.10186\n",
      "valid_loss: 0.16743,                vali_score: 0.7724,                valid_aux: None\n",
      "\n",
      "Epoch: 59\n"
     ]
    },
    {
     "data": {
      "application/vnd.jupyter.widget-view+json": {
       "model_id": "06288bbb10fc4eb88835181810ceaa55",
       "version_major": 2,
       "version_minor": 0
      },
      "text/plain": [
       "  0%|          | 0/99 [00:00<?, ?it/s]"
      ]
     },
     "metadata": {},
     "output_type": "display_data"
    },
    {
     "data": {
      "application/vnd.jupyter.widget-view+json": {
       "model_id": "f3611f50597f42ac8fa7a5ddd5b44dff",
       "version_major": 2,
       "version_minor": 0
      },
      "text/plain": [
       "  0%|          | 0/71 [00:00<?, ?it/s]"
      ]
     },
     "metadata": {},
     "output_type": "display_data"
    },
    {
     "name": "stdout",
     "output_type": "stream",
     "text": [
      "train_loss: 0.09808\n",
      "valid_loss: 0.16227,                vali_score: 0.77228,                valid_aux: None\n",
      "\n",
      "Epoch: 60\n"
     ]
    },
    {
     "data": {
      "application/vnd.jupyter.widget-view+json": {
       "model_id": "aa786ae31fde4917879123e78c47f802",
       "version_major": 2,
       "version_minor": 0
      },
      "text/plain": [
       "  0%|          | 0/99 [00:00<?, ?it/s]"
      ]
     },
     "metadata": {},
     "output_type": "display_data"
    },
    {
     "data": {
      "application/vnd.jupyter.widget-view+json": {
       "model_id": "b68da7b43ebe4177aa12ae2959471859",
       "version_major": 2,
       "version_minor": 0
      },
      "text/plain": [
       "  0%|          | 0/71 [00:00<?, ?it/s]"
      ]
     },
     "metadata": {},
     "output_type": "display_data"
    },
    {
     "name": "stdout",
     "output_type": "stream",
     "text": [
      "train_loss: 0.09302\n",
      "valid_loss: 0.17419,                vali_score: 0.77286,                valid_aux: None\n",
      "\n",
      "Epoch: 61\n"
     ]
    },
    {
     "data": {
      "application/vnd.jupyter.widget-view+json": {
       "model_id": "ebcf68a1bdd146beb6e5827b8d92333c",
       "version_major": 2,
       "version_minor": 0
      },
      "text/plain": [
       "  0%|          | 0/99 [00:00<?, ?it/s]"
      ]
     },
     "metadata": {},
     "output_type": "display_data"
    },
    {
     "data": {
      "application/vnd.jupyter.widget-view+json": {
       "model_id": "8e5d12bd5cb14369a66df7eafcb4d26f",
       "version_major": 2,
       "version_minor": 0
      },
      "text/plain": [
       "  0%|          | 0/71 [00:00<?, ?it/s]"
      ]
     },
     "metadata": {},
     "output_type": "display_data"
    },
    {
     "name": "stdout",
     "output_type": "stream",
     "text": [
      "train_loss: 0.08246\n",
      "valid_loss: 0.17578,                vali_score: 0.76946,                valid_aux: None\n",
      "\n",
      "Epoch: 62\n"
     ]
    },
    {
     "data": {
      "application/vnd.jupyter.widget-view+json": {
       "model_id": "34a2ce96505b483ea67994bac459afe1",
       "version_major": 2,
       "version_minor": 0
      },
      "text/plain": [
       "  0%|          | 0/99 [00:00<?, ?it/s]"
      ]
     },
     "metadata": {},
     "output_type": "display_data"
    },
    {
     "data": {
      "application/vnd.jupyter.widget-view+json": {
       "model_id": "98796dc6635a467a87bf2005bb977d54",
       "version_major": 2,
       "version_minor": 0
      },
      "text/plain": [
       "  0%|          | 0/71 [00:00<?, ?it/s]"
      ]
     },
     "metadata": {},
     "output_type": "display_data"
    },
    {
     "name": "stdout",
     "output_type": "stream",
     "text": [
      "train_loss: 0.08407\n",
      "valid_loss: 0.18853,                vali_score: 0.75553,                valid_aux: None\n",
      "\n",
      "Epoch: 63\n"
     ]
    },
    {
     "data": {
      "application/vnd.jupyter.widget-view+json": {
       "model_id": "84a4b8f211ea4a3e8452da2178fb4ba7",
       "version_major": 2,
       "version_minor": 0
      },
      "text/plain": [
       "  0%|          | 0/99 [00:00<?, ?it/s]"
      ]
     },
     "metadata": {},
     "output_type": "display_data"
    },
    {
     "data": {
      "application/vnd.jupyter.widget-view+json": {
       "model_id": "58bd2941164f4d67aec516ea0873539d",
       "version_major": 2,
       "version_minor": 0
      },
      "text/plain": [
       "  0%|          | 0/71 [00:00<?, ?it/s]"
      ]
     },
     "metadata": {},
     "output_type": "display_data"
    },
    {
     "name": "stdout",
     "output_type": "stream",
     "text": [
      "train_loss: 0.08991\n",
      "valid_loss: 0.16821,                vali_score: 0.78113,                valid_aux: None\n",
      "\n",
      "Epoch: 64\n"
     ]
    },
    {
     "data": {
      "application/vnd.jupyter.widget-view+json": {
       "model_id": "69165935e93d4741a4b6500d3d201db4",
       "version_major": 2,
       "version_minor": 0
      },
      "text/plain": [
       "  0%|          | 0/99 [00:00<?, ?it/s]"
      ]
     },
     "metadata": {},
     "output_type": "display_data"
    },
    {
     "data": {
      "application/vnd.jupyter.widget-view+json": {
       "model_id": "8775fdbbf7e949519ef66d601fe03255",
       "version_major": 2,
       "version_minor": 0
      },
      "text/plain": [
       "  0%|          | 0/71 [00:00<?, ?it/s]"
      ]
     },
     "metadata": {},
     "output_type": "display_data"
    },
    {
     "name": "stdout",
     "output_type": "stream",
     "text": [
      "train_loss: 0.09369\n",
      "valid_loss: 0.17331,                vali_score: 0.7823,                valid_aux: None\n",
      "\n",
      "Epoch: 65\n"
     ]
    },
    {
     "data": {
      "application/vnd.jupyter.widget-view+json": {
       "model_id": "af2af035b817408d8ac9e700ec16efd3",
       "version_major": 2,
       "version_minor": 0
      },
      "text/plain": [
       "  0%|          | 0/99 [00:00<?, ?it/s]"
      ]
     },
     "metadata": {},
     "output_type": "display_data"
    },
    {
     "data": {
      "application/vnd.jupyter.widget-view+json": {
       "model_id": "8fa9529e8ab943cbb15150bd1e184a5c",
       "version_major": 2,
       "version_minor": 0
      },
      "text/plain": [
       "  0%|          | 0/71 [00:00<?, ?it/s]"
      ]
     },
     "metadata": {},
     "output_type": "display_data"
    },
    {
     "name": "stdout",
     "output_type": "stream",
     "text": [
      "train_loss: 0.08418\n",
      "valid_loss: 0.17183,                vali_score: 0.77867,                valid_aux: None\n",
      "\n",
      "Epoch: 66\n"
     ]
    },
    {
     "data": {
      "application/vnd.jupyter.widget-view+json": {
       "model_id": "4d706416b39c4101a820e9ed5aa62df7",
       "version_major": 2,
       "version_minor": 0
      },
      "text/plain": [
       "  0%|          | 0/99 [00:00<?, ?it/s]"
      ]
     },
     "metadata": {},
     "output_type": "display_data"
    },
    {
     "data": {
      "application/vnd.jupyter.widget-view+json": {
       "model_id": "246a2cacb97a49ff86c1940f92157a78",
       "version_major": 2,
       "version_minor": 0
      },
      "text/plain": [
       "  0%|          | 0/71 [00:00<?, ?it/s]"
      ]
     },
     "metadata": {},
     "output_type": "display_data"
    },
    {
     "name": "stdout",
     "output_type": "stream",
     "text": [
      "train_loss: 0.08877\n",
      "valid_loss: 0.17082,                vali_score: 0.77494,                valid_aux: None\n",
      "\n",
      "Epoch: 67\n"
     ]
    },
    {
     "data": {
      "application/vnd.jupyter.widget-view+json": {
       "model_id": "750f101bc3864e70a17f3615ceee02aa",
       "version_major": 2,
       "version_minor": 0
      },
      "text/plain": [
       "  0%|          | 0/99 [00:00<?, ?it/s]"
      ]
     },
     "metadata": {},
     "output_type": "display_data"
    },
    {
     "data": {
      "application/vnd.jupyter.widget-view+json": {
       "model_id": "ce6e282f3b89421c9cba46129431f4fb",
       "version_major": 2,
       "version_minor": 0
      },
      "text/plain": [
       "  0%|          | 0/71 [00:00<?, ?it/s]"
      ]
     },
     "metadata": {},
     "output_type": "display_data"
    },
    {
     "name": "stdout",
     "output_type": "stream",
     "text": [
      "train_loss: 0.08336\n",
      "valid_loss: 0.15937,                vali_score: 0.788,                valid_aux: None\n",
      "\n",
      "Epoch: 68\n"
     ]
    },
    {
     "data": {
      "application/vnd.jupyter.widget-view+json": {
       "model_id": "4a2f6faa4ef1442ab1f6b84634c5ba55",
       "version_major": 2,
       "version_minor": 0
      },
      "text/plain": [
       "  0%|          | 0/99 [00:00<?, ?it/s]"
      ]
     },
     "metadata": {},
     "output_type": "display_data"
    },
    {
     "data": {
      "application/vnd.jupyter.widget-view+json": {
       "model_id": "231a3bd05e87411bb3413a4ce8ace161",
       "version_major": 2,
       "version_minor": 0
      },
      "text/plain": [
       "  0%|          | 0/71 [00:00<?, ?it/s]"
      ]
     },
     "metadata": {},
     "output_type": "display_data"
    },
    {
     "name": "stdout",
     "output_type": "stream",
     "text": [
      "train_loss: 0.08446\n",
      "valid_loss: 0.16622,                vali_score: 0.78414,                valid_aux: None\n",
      "\n",
      "Epoch: 69\n"
     ]
    },
    {
     "data": {
      "application/vnd.jupyter.widget-view+json": {
       "model_id": "a4be2c5cd7cd4a26967e70f671379cfa",
       "version_major": 2,
       "version_minor": 0
      },
      "text/plain": [
       "  0%|          | 0/99 [00:00<?, ?it/s]"
      ]
     },
     "metadata": {},
     "output_type": "display_data"
    },
    {
     "data": {
      "application/vnd.jupyter.widget-view+json": {
       "model_id": "2afb12cb44bb4eaaae563ac47ad62623",
       "version_major": 2,
       "version_minor": 0
      },
      "text/plain": [
       "  0%|          | 0/71 [00:00<?, ?it/s]"
      ]
     },
     "metadata": {},
     "output_type": "display_data"
    },
    {
     "name": "stdout",
     "output_type": "stream",
     "text": [
      "train_loss: 0.08813\n",
      "valid_loss: 0.17916,                vali_score: 0.76455,                valid_aux: None\n",
      "\n",
      "Epoch: 70\n"
     ]
    },
    {
     "data": {
      "application/vnd.jupyter.widget-view+json": {
       "model_id": "22f87f5967c04f1a989ea5859fa5de98",
       "version_major": 2,
       "version_minor": 0
      },
      "text/plain": [
       "  0%|          | 0/99 [00:00<?, ?it/s]"
      ]
     },
     "metadata": {},
     "output_type": "display_data"
    },
    {
     "data": {
      "application/vnd.jupyter.widget-view+json": {
       "model_id": "ea67b794fe6e4d6daa6ddd9b1e5ade77",
       "version_major": 2,
       "version_minor": 0
      },
      "text/plain": [
       "  0%|          | 0/71 [00:00<?, ?it/s]"
      ]
     },
     "metadata": {},
     "output_type": "display_data"
    },
    {
     "name": "stdout",
     "output_type": "stream",
     "text": [
      "train_loss: 0.09026\n",
      "valid_loss: 0.16986,                vali_score: 0.77993,                valid_aux: None\n",
      "\n",
      "Epoch: 71\n"
     ]
    },
    {
     "data": {
      "application/vnd.jupyter.widget-view+json": {
       "model_id": "7265e3effd39486ea2d41f61fcec8915",
       "version_major": 2,
       "version_minor": 0
      },
      "text/plain": [
       "  0%|          | 0/99 [00:00<?, ?it/s]"
      ]
     },
     "metadata": {},
     "output_type": "display_data"
    },
    {
     "data": {
      "application/vnd.jupyter.widget-view+json": {
       "model_id": "06723cb5816c4bb49978a76f928b9cde",
       "version_major": 2,
       "version_minor": 0
      },
      "text/plain": [
       "  0%|          | 0/71 [00:00<?, ?it/s]"
      ]
     },
     "metadata": {},
     "output_type": "display_data"
    },
    {
     "name": "stdout",
     "output_type": "stream",
     "text": [
      "train_loss: 0.08907\n",
      "valid_loss: 0.16555,                vali_score: 0.78171,                valid_aux: None\n",
      "\n",
      "Epoch: 72\n"
     ]
    },
    {
     "data": {
      "application/vnd.jupyter.widget-view+json": {
       "model_id": "59bae43903674e4c81977d228c0d625b",
       "version_major": 2,
       "version_minor": 0
      },
      "text/plain": [
       "  0%|          | 0/99 [00:00<?, ?it/s]"
      ]
     },
     "metadata": {},
     "output_type": "display_data"
    },
    {
     "data": {
      "application/vnd.jupyter.widget-view+json": {
       "model_id": "7d15733a80e8492494036b24c53c82a0",
       "version_major": 2,
       "version_minor": 0
      },
      "text/plain": [
       "  0%|          | 0/71 [00:00<?, ?it/s]"
      ]
     },
     "metadata": {},
     "output_type": "display_data"
    },
    {
     "name": "stdout",
     "output_type": "stream",
     "text": [
      "train_loss: 0.08436\n",
      "valid_loss: 0.1569,                vali_score: 0.78607,                valid_aux: None\n",
      "\n",
      "Epoch: 73\n"
     ]
    },
    {
     "data": {
      "application/vnd.jupyter.widget-view+json": {
       "model_id": "fe1d6ed7abe147d1acfed5dbfadd2e4e",
       "version_major": 2,
       "version_minor": 0
      },
      "text/plain": [
       "  0%|          | 0/99 [00:00<?, ?it/s]"
      ]
     },
     "metadata": {},
     "output_type": "display_data"
    },
    {
     "data": {
      "application/vnd.jupyter.widget-view+json": {
       "model_id": "f5ab4a19b6214a05acd7a2b664853c0b",
       "version_major": 2,
       "version_minor": 0
      },
      "text/plain": [
       "  0%|          | 0/71 [00:00<?, ?it/s]"
      ]
     },
     "metadata": {},
     "output_type": "display_data"
    },
    {
     "name": "stdout",
     "output_type": "stream",
     "text": [
      "train_loss: 0.08207\n",
      "valid_loss: 0.16526,                vali_score: 0.78162,                valid_aux: None\n",
      "\n",
      "Epoch: 74\n"
     ]
    },
    {
     "data": {
      "application/vnd.jupyter.widget-view+json": {
       "model_id": "713a1a9f8bcb4d6bba6e34f7f8572148",
       "version_major": 2,
       "version_minor": 0
      },
      "text/plain": [
       "  0%|          | 0/99 [00:00<?, ?it/s]"
      ]
     },
     "metadata": {},
     "output_type": "display_data"
    },
    {
     "data": {
      "application/vnd.jupyter.widget-view+json": {
       "model_id": "b9118b6bd3c4428ea790ea2e8e07e769",
       "version_major": 2,
       "version_minor": 0
      },
      "text/plain": [
       "  0%|          | 0/71 [00:00<?, ?it/s]"
      ]
     },
     "metadata": {},
     "output_type": "display_data"
    },
    {
     "name": "stdout",
     "output_type": "stream",
     "text": [
      "train_loss: 0.0816\n",
      "valid_loss: 0.16841,                vali_score: 0.77945,                valid_aux: None\n",
      "\n",
      "Epoch: 75\n"
     ]
    },
    {
     "data": {
      "application/vnd.jupyter.widget-view+json": {
       "model_id": "664491ee563d4cb5b28abe6f78502714",
       "version_major": 2,
       "version_minor": 0
      },
      "text/plain": [
       "  0%|          | 0/99 [00:00<?, ?it/s]"
      ]
     },
     "metadata": {},
     "output_type": "display_data"
    },
    {
     "data": {
      "application/vnd.jupyter.widget-view+json": {
       "model_id": "48bbe58e19004d1e85613280f694c396",
       "version_major": 2,
       "version_minor": 0
      },
      "text/plain": [
       "  0%|          | 0/71 [00:00<?, ?it/s]"
      ]
     },
     "metadata": {},
     "output_type": "display_data"
    },
    {
     "name": "stdout",
     "output_type": "stream",
     "text": [
      "train_loss: 0.0774\n",
      "valid_loss: 0.18337,                vali_score: 0.75795,                valid_aux: None\n",
      "\n",
      "Epoch: 76\n"
     ]
    },
    {
     "data": {
      "application/vnd.jupyter.widget-view+json": {
       "model_id": "a6adea7d97b24dd3bc58e099bae4202d",
       "version_major": 2,
       "version_minor": 0
      },
      "text/plain": [
       "  0%|          | 0/99 [00:00<?, ?it/s]"
      ]
     },
     "metadata": {},
     "output_type": "display_data"
    },
    {
     "data": {
      "application/vnd.jupyter.widget-view+json": {
       "model_id": "f095999e0fce487c96af29d99d54ce29",
       "version_major": 2,
       "version_minor": 0
      },
      "text/plain": [
       "  0%|          | 0/71 [00:00<?, ?it/s]"
      ]
     },
     "metadata": {},
     "output_type": "display_data"
    },
    {
     "name": "stdout",
     "output_type": "stream",
     "text": [
      "train_loss: 0.07463\n",
      "valid_loss: 0.16533,                vali_score: 0.77904,                valid_aux: None\n",
      "\n",
      "Epoch: 77\n"
     ]
    },
    {
     "data": {
      "application/vnd.jupyter.widget-view+json": {
       "model_id": "7df41eecc4644709963b71795dc5b99b",
       "version_major": 2,
       "version_minor": 0
      },
      "text/plain": [
       "  0%|          | 0/99 [00:00<?, ?it/s]"
      ]
     },
     "metadata": {},
     "output_type": "display_data"
    },
    {
     "data": {
      "application/vnd.jupyter.widget-view+json": {
       "model_id": "aa2ebbcda17c42108648655d2f3eb6b8",
       "version_major": 2,
       "version_minor": 0
      },
      "text/plain": [
       "  0%|          | 0/71 [00:00<?, ?it/s]"
      ]
     },
     "metadata": {},
     "output_type": "display_data"
    },
    {
     "name": "stdout",
     "output_type": "stream",
     "text": [
      "train_loss: 0.07501\n",
      "valid_loss: 0.18101,                vali_score: 0.76805,                valid_aux: None\n",
      "\n",
      "Epoch: 78\n"
     ]
    },
    {
     "data": {
      "application/vnd.jupyter.widget-view+json": {
       "model_id": "02b348d8571843bf9c4e95ee02d8161f",
       "version_major": 2,
       "version_minor": 0
      },
      "text/plain": [
       "  0%|          | 0/99 [00:00<?, ?it/s]"
      ]
     },
     "metadata": {},
     "output_type": "display_data"
    },
    {
     "data": {
      "application/vnd.jupyter.widget-view+json": {
       "model_id": "46ed011591ea43d684faa1291220ee1b",
       "version_major": 2,
       "version_minor": 0
      },
      "text/plain": [
       "  0%|          | 0/71 [00:00<?, ?it/s]"
      ]
     },
     "metadata": {},
     "output_type": "display_data"
    },
    {
     "name": "stdout",
     "output_type": "stream",
     "text": [
      "train_loss: 0.07655\n",
      "valid_loss: 0.18518,                vali_score: 0.76439,                valid_aux: None\n",
      "\n",
      "Epoch: 79\n"
     ]
    },
    {
     "data": {
      "application/vnd.jupyter.widget-view+json": {
       "model_id": "94c43abe9c734d538c2c01f2238749e6",
       "version_major": 2,
       "version_minor": 0
      },
      "text/plain": [
       "  0%|          | 0/99 [00:00<?, ?it/s]"
      ]
     },
     "metadata": {},
     "output_type": "display_data"
    },
    {
     "data": {
      "application/vnd.jupyter.widget-view+json": {
       "model_id": "a50f72958ea846179d3536ca96bb9be3",
       "version_major": 2,
       "version_minor": 0
      },
      "text/plain": [
       "  0%|          | 0/71 [00:00<?, ?it/s]"
      ]
     },
     "metadata": {},
     "output_type": "display_data"
    },
    {
     "name": "stdout",
     "output_type": "stream",
     "text": [
      "train_loss: 0.07745\n",
      "valid_loss: 0.17881,                vali_score: 0.76674,                valid_aux: None\n",
      "\n",
      "Epoch: 80\n"
     ]
    },
    {
     "data": {
      "application/vnd.jupyter.widget-view+json": {
       "model_id": "2fb7f3c7d3be4215a1cf902cf10924d7",
       "version_major": 2,
       "version_minor": 0
      },
      "text/plain": [
       "  0%|          | 0/99 [00:00<?, ?it/s]"
      ]
     },
     "metadata": {},
     "output_type": "display_data"
    },
    {
     "data": {
      "application/vnd.jupyter.widget-view+json": {
       "model_id": "cc79b28102364200b33bbd095665f3d9",
       "version_major": 2,
       "version_minor": 0
      },
      "text/plain": [
       "  0%|          | 0/71 [00:00<?, ?it/s]"
      ]
     },
     "metadata": {},
     "output_type": "display_data"
    },
    {
     "name": "stdout",
     "output_type": "stream",
     "text": [
      "train_loss: 0.07473\n",
      "valid_loss: 0.16017,                vali_score: 0.79032,                valid_aux: None\n",
      "\n",
      "Epoch: 81\n"
     ]
    },
    {
     "data": {
      "application/vnd.jupyter.widget-view+json": {
       "model_id": "038e08f22b7a4fb28b12ccc08cd1a4ae",
       "version_major": 2,
       "version_minor": 0
      },
      "text/plain": [
       "  0%|          | 0/99 [00:00<?, ?it/s]"
      ]
     },
     "metadata": {},
     "output_type": "display_data"
    },
    {
     "data": {
      "application/vnd.jupyter.widget-view+json": {
       "model_id": "719b71c5ef2c4fb8abd2727e2dab313c",
       "version_major": 2,
       "version_minor": 0
      },
      "text/plain": [
       "  0%|          | 0/71 [00:00<?, ?it/s]"
      ]
     },
     "metadata": {},
     "output_type": "display_data"
    },
    {
     "name": "stdout",
     "output_type": "stream",
     "text": [
      "train_loss: 0.07878\n",
      "valid_loss: 0.16752,                vali_score: 0.7765,                valid_aux: None\n",
      "\n",
      "Epoch: 82\n"
     ]
    },
    {
     "data": {
      "application/vnd.jupyter.widget-view+json": {
       "model_id": "37bf7686895c438d85880aaa9dcb4047",
       "version_major": 2,
       "version_minor": 0
      },
      "text/plain": [
       "  0%|          | 0/99 [00:00<?, ?it/s]"
      ]
     },
     "metadata": {},
     "output_type": "display_data"
    },
    {
     "data": {
      "application/vnd.jupyter.widget-view+json": {
       "model_id": "a02ee3e1e91649128a0dfaf5bc5a01a5",
       "version_major": 2,
       "version_minor": 0
      },
      "text/plain": [
       "  0%|          | 0/71 [00:00<?, ?it/s]"
      ]
     },
     "metadata": {},
     "output_type": "display_data"
    },
    {
     "name": "stdout",
     "output_type": "stream",
     "text": [
      "train_loss: 0.07825\n",
      "valid_loss: 0.17852,                vali_score: 0.76508,                valid_aux: None\n",
      "\n",
      "Epoch: 83\n"
     ]
    },
    {
     "data": {
      "application/vnd.jupyter.widget-view+json": {
       "model_id": "528e1143934c483b9b9d5d047c926cfe",
       "version_major": 2,
       "version_minor": 0
      },
      "text/plain": [
       "  0%|          | 0/99 [00:00<?, ?it/s]"
      ]
     },
     "metadata": {},
     "output_type": "display_data"
    },
    {
     "data": {
      "application/vnd.jupyter.widget-view+json": {
       "model_id": "86a3e4024b5841818517aa2d79974cd3",
       "version_major": 2,
       "version_minor": 0
      },
      "text/plain": [
       "  0%|          | 0/71 [00:00<?, ?it/s]"
      ]
     },
     "metadata": {},
     "output_type": "display_data"
    },
    {
     "name": "stdout",
     "output_type": "stream",
     "text": [
      "train_loss: 0.07678\n",
      "valid_loss: 0.17534,                vali_score: 0.77912,                valid_aux: None\n",
      "\n",
      "Epoch: 84\n"
     ]
    },
    {
     "data": {
      "application/vnd.jupyter.widget-view+json": {
       "model_id": "48cd434714d94a89a16e9e5191fb39e1",
       "version_major": 2,
       "version_minor": 0
      },
      "text/plain": [
       "  0%|          | 0/99 [00:00<?, ?it/s]"
      ]
     },
     "metadata": {},
     "output_type": "display_data"
    },
    {
     "data": {
      "application/vnd.jupyter.widget-view+json": {
       "model_id": "de708a3375a5479991a8efd646bf5b3d",
       "version_major": 2,
       "version_minor": 0
      },
      "text/plain": [
       "  0%|          | 0/71 [00:00<?, ?it/s]"
      ]
     },
     "metadata": {},
     "output_type": "display_data"
    },
    {
     "name": "stdout",
     "output_type": "stream",
     "text": [
      "train_loss: 0.0751\n",
      "valid_loss: 0.17243,                vali_score: 0.77651,                valid_aux: None\n",
      "\n",
      "Epoch: 85\n"
     ]
    },
    {
     "data": {
      "application/vnd.jupyter.widget-view+json": {
       "model_id": "a4dea9d9868d46bfbd6896a3c50b816c",
       "version_major": 2,
       "version_minor": 0
      },
      "text/plain": [
       "  0%|          | 0/99 [00:00<?, ?it/s]"
      ]
     },
     "metadata": {},
     "output_type": "display_data"
    },
    {
     "data": {
      "application/vnd.jupyter.widget-view+json": {
       "model_id": "899c7247df2c46b19833ead43276a10f",
       "version_major": 2,
       "version_minor": 0
      },
      "text/plain": [
       "  0%|          | 0/71 [00:00<?, ?it/s]"
      ]
     },
     "metadata": {},
     "output_type": "display_data"
    },
    {
     "name": "stdout",
     "output_type": "stream",
     "text": [
      "train_loss: 0.07527\n",
      "valid_loss: 0.17342,                vali_score: 0.7727,                valid_aux: None\n",
      "\n",
      "Epoch: 86\n"
     ]
    },
    {
     "data": {
      "application/vnd.jupyter.widget-view+json": {
       "model_id": "79249730171746a591037a073eca4172",
       "version_major": 2,
       "version_minor": 0
      },
      "text/plain": [
       "  0%|          | 0/99 [00:00<?, ?it/s]"
      ]
     },
     "metadata": {},
     "output_type": "display_data"
    },
    {
     "data": {
      "application/vnd.jupyter.widget-view+json": {
       "model_id": "09612d637acc494cb55a94fc06e884f5",
       "version_major": 2,
       "version_minor": 0
      },
      "text/plain": [
       "  0%|          | 0/71 [00:00<?, ?it/s]"
      ]
     },
     "metadata": {},
     "output_type": "display_data"
    },
    {
     "name": "stdout",
     "output_type": "stream",
     "text": [
      "train_loss: 0.07141\n",
      "valid_loss: 0.18542,                vali_score: 0.76476,                valid_aux: None\n",
      "\n",
      "Epoch: 87\n"
     ]
    },
    {
     "data": {
      "application/vnd.jupyter.widget-view+json": {
       "model_id": "e8b3d75e54af42db96ae97e21fedf679",
       "version_major": 2,
       "version_minor": 0
      },
      "text/plain": [
       "  0%|          | 0/99 [00:00<?, ?it/s]"
      ]
     },
     "metadata": {},
     "output_type": "display_data"
    },
    {
     "data": {
      "application/vnd.jupyter.widget-view+json": {
       "model_id": "5a4922dfdaf0423985f1afee50ebe469",
       "version_major": 2,
       "version_minor": 0
      },
      "text/plain": [
       "  0%|          | 0/71 [00:00<?, ?it/s]"
      ]
     },
     "metadata": {},
     "output_type": "display_data"
    },
    {
     "name": "stdout",
     "output_type": "stream",
     "text": [
      "train_loss: 0.07298\n",
      "valid_loss: 0.17941,                vali_score: 0.77436,                valid_aux: None\n",
      "\n",
      "Epoch: 88\n"
     ]
    },
    {
     "data": {
      "application/vnd.jupyter.widget-view+json": {
       "model_id": "f18ef46b0a234e26bc099a7dbdd9aa8c",
       "version_major": 2,
       "version_minor": 0
      },
      "text/plain": [
       "  0%|          | 0/99 [00:00<?, ?it/s]"
      ]
     },
     "metadata": {},
     "output_type": "display_data"
    },
    {
     "data": {
      "application/vnd.jupyter.widget-view+json": {
       "model_id": "18e57dbf5d0b4923a7f53a9132737b95",
       "version_major": 2,
       "version_minor": 0
      },
      "text/plain": [
       "  0%|          | 0/71 [00:00<?, ?it/s]"
      ]
     },
     "metadata": {},
     "output_type": "display_data"
    },
    {
     "name": "stdout",
     "output_type": "stream",
     "text": [
      "train_loss: 0.07919\n",
      "valid_loss: 0.17076,                vali_score: 0.77438,                valid_aux: None\n",
      "\n",
      "Epoch: 89\n"
     ]
    },
    {
     "data": {
      "application/vnd.jupyter.widget-view+json": {
       "model_id": "084d6e5cc098480389bae8eb531f7abe",
       "version_major": 2,
       "version_minor": 0
      },
      "text/plain": [
       "  0%|          | 0/99 [00:00<?, ?it/s]"
      ]
     },
     "metadata": {},
     "output_type": "display_data"
    },
    {
     "data": {
      "application/vnd.jupyter.widget-view+json": {
       "model_id": "0984eeb3bae94b61833e5e8cf3e99734",
       "version_major": 2,
       "version_minor": 0
      },
      "text/plain": [
       "  0%|          | 0/71 [00:00<?, ?it/s]"
      ]
     },
     "metadata": {},
     "output_type": "display_data"
    },
    {
     "name": "stdout",
     "output_type": "stream",
     "text": [
      "train_loss: 0.07764\n",
      "valid_loss: 0.1604,                vali_score: 0.78818,                valid_aux: None\n",
      "\n",
      "Epoch: 90\n"
     ]
    },
    {
     "data": {
      "application/vnd.jupyter.widget-view+json": {
       "model_id": "387bb94fb0ea4ae2ba87f0e5b5f167b8",
       "version_major": 2,
       "version_minor": 0
      },
      "text/plain": [
       "  0%|          | 0/99 [00:00<?, ?it/s]"
      ]
     },
     "metadata": {},
     "output_type": "display_data"
    },
    {
     "data": {
      "application/vnd.jupyter.widget-view+json": {
       "model_id": "8e6737f5100d4372813c6aab4d2d4204",
       "version_major": 2,
       "version_minor": 0
      },
      "text/plain": [
       "  0%|          | 0/71 [00:00<?, ?it/s]"
      ]
     },
     "metadata": {},
     "output_type": "display_data"
    },
    {
     "name": "stdout",
     "output_type": "stream",
     "text": [
      "train_loss: 0.09037\n",
      "valid_loss: 0.17515,                vali_score: 0.77243,                valid_aux: None\n",
      "\n",
      "Epoch: 91\n"
     ]
    },
    {
     "data": {
      "application/vnd.jupyter.widget-view+json": {
       "model_id": "f763fee23047403c8e22a3d4c8257cb6",
       "version_major": 2,
       "version_minor": 0
      },
      "text/plain": [
       "  0%|          | 0/99 [00:00<?, ?it/s]"
      ]
     },
     "metadata": {},
     "output_type": "display_data"
    },
    {
     "data": {
      "application/vnd.jupyter.widget-view+json": {
       "model_id": "04cdb89cae044be6a68236a1b6eb03e3",
       "version_major": 2,
       "version_minor": 0
      },
      "text/plain": [
       "  0%|          | 0/71 [00:00<?, ?it/s]"
      ]
     },
     "metadata": {},
     "output_type": "display_data"
    },
    {
     "name": "stdout",
     "output_type": "stream",
     "text": [
      "train_loss: 0.08344\n",
      "valid_loss: 0.1745,                vali_score: 0.77102,                valid_aux: None\n",
      "\n",
      "Epoch: 92\n"
     ]
    },
    {
     "data": {
      "application/vnd.jupyter.widget-view+json": {
       "model_id": "1809306c04e94cfa809474bf92bf315e",
       "version_major": 2,
       "version_minor": 0
      },
      "text/plain": [
       "  0%|          | 0/99 [00:00<?, ?it/s]"
      ]
     },
     "metadata": {},
     "output_type": "display_data"
    },
    {
     "data": {
      "application/vnd.jupyter.widget-view+json": {
       "model_id": "38f6d71ba64a46cab7f45480808b8f24",
       "version_major": 2,
       "version_minor": 0
      },
      "text/plain": [
       "  0%|          | 0/71 [00:00<?, ?it/s]"
      ]
     },
     "metadata": {},
     "output_type": "display_data"
    },
    {
     "name": "stdout",
     "output_type": "stream",
     "text": [
      "train_loss: 0.07764\n",
      "valid_loss: 0.16203,                vali_score: 0.78537,                valid_aux: None\n",
      "\n",
      "Epoch: 93\n"
     ]
    },
    {
     "data": {
      "application/vnd.jupyter.widget-view+json": {
       "model_id": "001cca177b35405a89b2f7fdd5e59042",
       "version_major": 2,
       "version_minor": 0
      },
      "text/plain": [
       "  0%|          | 0/99 [00:00<?, ?it/s]"
      ]
     },
     "metadata": {},
     "output_type": "display_data"
    },
    {
     "data": {
      "application/vnd.jupyter.widget-view+json": {
       "model_id": "d9d09631e3c54f54a10dd1ce1fc4f420",
       "version_major": 2,
       "version_minor": 0
      },
      "text/plain": [
       "  0%|          | 0/71 [00:00<?, ?it/s]"
      ]
     },
     "metadata": {},
     "output_type": "display_data"
    },
    {
     "name": "stdout",
     "output_type": "stream",
     "text": [
      "train_loss: 0.07624\n",
      "valid_loss: 0.16608,                vali_score: 0.77799,                valid_aux: None\n",
      "\n",
      "Epoch: 94\n"
     ]
    },
    {
     "data": {
      "application/vnd.jupyter.widget-view+json": {
       "model_id": "8109392323b34ef9a9183f2723ed3912",
       "version_major": 2,
       "version_minor": 0
      },
      "text/plain": [
       "  0%|          | 0/99 [00:00<?, ?it/s]"
      ]
     },
     "metadata": {},
     "output_type": "display_data"
    },
    {
     "data": {
      "application/vnd.jupyter.widget-view+json": {
       "model_id": "5458e35908cc4f219a673ddcf62598c8",
       "version_major": 2,
       "version_minor": 0
      },
      "text/plain": [
       "  0%|          | 0/71 [00:00<?, ?it/s]"
      ]
     },
     "metadata": {},
     "output_type": "display_data"
    },
    {
     "name": "stdout",
     "output_type": "stream",
     "text": [
      "train_loss: 0.07961\n",
      "valid_loss: 0.17186,                vali_score: 0.77494,                valid_aux: None\n",
      "\n",
      "Epoch: 95\n"
     ]
    },
    {
     "data": {
      "application/vnd.jupyter.widget-view+json": {
       "model_id": "931ea00fef114517a33192c1c7d2da06",
       "version_major": 2,
       "version_minor": 0
      },
      "text/plain": [
       "  0%|          | 0/99 [00:00<?, ?it/s]"
      ]
     },
     "metadata": {},
     "output_type": "display_data"
    },
    {
     "data": {
      "application/vnd.jupyter.widget-view+json": {
       "model_id": "27dc23b114824b5289d0d46afa2d8ac8",
       "version_major": 2,
       "version_minor": 0
      },
      "text/plain": [
       "  0%|          | 0/71 [00:00<?, ?it/s]"
      ]
     },
     "metadata": {},
     "output_type": "display_data"
    },
    {
     "name": "stdout",
     "output_type": "stream",
     "text": [
      "train_loss: 0.08798\n",
      "valid_loss: 0.17391,                vali_score: 0.77028,                valid_aux: None\n",
      "\n",
      "Epoch: 96\n"
     ]
    },
    {
     "data": {
      "application/vnd.jupyter.widget-view+json": {
       "model_id": "df835903c09e4949a2f3aed004f9094a",
       "version_major": 2,
       "version_minor": 0
      },
      "text/plain": [
       "  0%|          | 0/99 [00:00<?, ?it/s]"
      ]
     },
     "metadata": {},
     "output_type": "display_data"
    },
    {
     "data": {
      "application/vnd.jupyter.widget-view+json": {
       "model_id": "e0143dd6ac1647e5a8262bed549f67b9",
       "version_major": 2,
       "version_minor": 0
      },
      "text/plain": [
       "  0%|          | 0/71 [00:00<?, ?it/s]"
      ]
     },
     "metadata": {},
     "output_type": "display_data"
    },
    {
     "name": "stdout",
     "output_type": "stream",
     "text": [
      "train_loss: 0.08145\n",
      "valid_loss: 0.16138,                vali_score: 0.78984,                valid_aux: None\n",
      "\n",
      "Epoch: 97\n"
     ]
    },
    {
     "data": {
      "application/vnd.jupyter.widget-view+json": {
       "model_id": "00a3e007541f4957b597eac57343ba6d",
       "version_major": 2,
       "version_minor": 0
      },
      "text/plain": [
       "  0%|          | 0/99 [00:00<?, ?it/s]"
      ]
     },
     "metadata": {},
     "output_type": "display_data"
    },
    {
     "data": {
      "application/vnd.jupyter.widget-view+json": {
       "model_id": "50677612365648488a22761e0c99a58b",
       "version_major": 2,
       "version_minor": 0
      },
      "text/plain": [
       "  0%|          | 0/71 [00:00<?, ?it/s]"
      ]
     },
     "metadata": {},
     "output_type": "display_data"
    },
    {
     "name": "stdout",
     "output_type": "stream",
     "text": [
      "train_loss: 0.08401\n",
      "valid_loss: 0.15364,                vali_score: 0.79804,                valid_aux: None\n",
      "Model saved at:  0.79804\n",
      "\n",
      "Epoch: 98\n"
     ]
    },
    {
     "data": {
      "application/vnd.jupyter.widget-view+json": {
       "model_id": "4cc371c2fcbb4aa88abbad612b8e4f54",
       "version_major": 2,
       "version_minor": 0
      },
      "text/plain": [
       "  0%|          | 0/99 [00:00<?, ?it/s]"
      ]
     },
     "metadata": {},
     "output_type": "display_data"
    },
    {
     "data": {
      "application/vnd.jupyter.widget-view+json": {
       "model_id": "c36447939b86408aad80c977a1adbe40",
       "version_major": 2,
       "version_minor": 0
      },
      "text/plain": [
       "  0%|          | 0/71 [00:00<?, ?it/s]"
      ]
     },
     "metadata": {},
     "output_type": "display_data"
    },
    {
     "name": "stdout",
     "output_type": "stream",
     "text": [
      "train_loss: 0.08173\n",
      "valid_loss: 0.16295,                vali_score: 0.77989,                valid_aux: None\n",
      "\n",
      "Epoch: 99\n"
     ]
    },
    {
     "data": {
      "application/vnd.jupyter.widget-view+json": {
       "model_id": "71309d2827b64eaba3b4049c79c04589",
       "version_major": 2,
       "version_minor": 0
      },
      "text/plain": [
       "  0%|          | 0/99 [00:00<?, ?it/s]"
      ]
     },
     "metadata": {},
     "output_type": "display_data"
    },
    {
     "data": {
      "application/vnd.jupyter.widget-view+json": {
       "model_id": "ce1cf49995b0480481e83a07e0b68850",
       "version_major": 2,
       "version_minor": 0
      },
      "text/plain": [
       "  0%|          | 0/71 [00:00<?, ?it/s]"
      ]
     },
     "metadata": {},
     "output_type": "display_data"
    },
    {
     "name": "stdout",
     "output_type": "stream",
     "text": [
      "train_loss: 0.07571\n",
      "valid_loss: 0.14885,                vali_score: 0.79939,                valid_aux: None\n",
      "Model saved at:  0.79939\n",
      "\n",
      "Epoch: 100\n"
     ]
    },
    {
     "data": {
      "application/vnd.jupyter.widget-view+json": {
       "model_id": "5845558a11ac4717a23bb4da25da7f3f",
       "version_major": 2,
       "version_minor": 0
      },
      "text/plain": [
       "  0%|          | 0/99 [00:00<?, ?it/s]"
      ]
     },
     "metadata": {},
     "output_type": "display_data"
    },
    {
     "data": {
      "application/vnd.jupyter.widget-view+json": {
       "model_id": "ba06d29ea78d4bdfb81920461f12778f",
       "version_major": 2,
       "version_minor": 0
      },
      "text/plain": [
       "  0%|          | 0/71 [00:00<?, ?it/s]"
      ]
     },
     "metadata": {},
     "output_type": "display_data"
    },
    {
     "name": "stdout",
     "output_type": "stream",
     "text": [
      "train_loss: 0.07327\n",
      "valid_loss: 0.16924,                vali_score: 0.78544,                valid_aux: None\n"
     ]
    }
   ],
   "source": [
    "ENCODER = CFG['model_name']\n",
    "ENCODER_WEIGHTS = 'imagenet'\n",
    "ACTIVATION = None # could be None for logits or 'softmax2d' for multicalss segmentation\n",
    "DEVICE = 'cuda:0'\n",
    "\n",
    "aux_params=dict(\n",
    "    pooling='avg',             # one of 'avg', 'max'\n",
    "    dropout=0.5,               # dropout ratio, default is None\n",
    "    activation=None,      # activation function, default is None\n",
    "    classes=1,                 # define number of output labels\n",
    ") if CFG['aux'] != False else None\n",
    "\n",
    "if not CFG['load_model']:\n",
    "    model = smp.Unet(\n",
    "        encoder_name=ENCODER, \n",
    "        encoder_weights=ENCODER_WEIGHTS, \n",
    "        classes= 1, \n",
    "        in_channels= 3,\n",
    "        activation=ACTIVATION,\n",
    "        aux_params=aux_params,\n",
    "        #decoder_attention_type= 'scse',\n",
    "    )\n",
    "else:\n",
    "    print(f\"load_model: {CFG['load_model']}\")\n",
    "    model= torch.load(CFG['load_model'])\n",
    "\n",
    "## loss\n",
    "loss= custom_loss()\n",
    "loss.__name__ = 'custom_loss'\n",
    "dice= L.DiceLoss(mode= 'multilabel')\n",
    "dice.__name__= 'dice_loss'\n",
    "\n",
    "metrics = [\n",
    "#     smp.utils.metrics.Fscore(threshold= 0.5, activation= 'sigmoid'),\n",
    "    smp.utils.metrics.IoU(threshold=0.5, activation= 'sigmoid'),\n",
    "    dice,\n",
    "]\n",
    "optimizer = torch.optim.AdamW([ \n",
    "    dict(params=model.parameters(), lr=CFG['lr']),\n",
    "], weight_decay= CFG['weight_decay'])\n",
    "\n",
    "\n",
    "model.train()\n",
    "train_epoch = smp.utils.train.TrainEpoch(\n",
    "    model, \n",
    "    loss=loss, \n",
    "    metrics=metrics, \n",
    "    optimizer=optimizer,\n",
    "    device=DEVICE,\n",
    "    verbose=True,\n",
    ")\n",
    "\n",
    "model.eval()\n",
    "valid_epoch = smp.utils.train.ValidEpoch(\n",
    "    model, \n",
    "    loss=loss, \n",
    "    metrics=metrics, \n",
    "    device=DEVICE,\n",
    "    verbose=True,\n",
    ")\n",
    "\n",
    "\n",
    "max_score = 0\n",
    "for i in range(1, CFG['epoch']+1):\n",
    "    print('\\nEpoch: {}'.format(i))\n",
    "    \n",
    "    ## train\n",
    "    if CFG['amp']: \n",
    "        train_loss= train_epoch_amp(train_loader, model, loss, optimizer)\n",
    "        valid_loss, dice_mask, dice_aux= valid_epoch_amp(valid_loader, model, loss)\n",
    "        score= dice_mask\n",
    "        print(f'train_loss: {round(train_loss, 5)}')\n",
    "        print(f'valid_loss: {round(valid_loss, 5)},\\\n",
    "                vali_score: {round(score, 5)},\\\n",
    "                valid_aux: {dice_aux}')\n",
    "    else: \n",
    "        train_logs = train_epoch.run(train_loader)\n",
    "        valid_logs = valid_epoch.run(valid_loader)\n",
    "        score= 1-valid_logs['dice_loss']\n",
    "        print('vali_score: ', round(score, 5))\n",
    "\n",
    "    ## save best model\n",
    "    if max_score < score:\n",
    "        max_score = score\n",
    "        torch.save(model, f\"{CFG['save_model']}/model_cv{CFG['fold']}_best.pth\")\n",
    "        print('Model saved at: ', round(max_score, 5))\n",
    "        \n",
    "    ## save model every epoch\n",
    "    torch.save(model, f\"{CFG['save_model']}/model_cv{CFG['fold']}_ep{i}.pth\")\n",
    "\n",
    "    ##adjust lr\n",
    "#     if i == 10:\n",
    "#         model= torch.load(f\"{CFG['save_model']}/model_cv{CFG['fold']}_best.pth\")\n",
    "#         optimizer.param_groups[0]['lr'] = 5e-5\n",
    "#         print(f\"Decrease decoder learning rate to {optimizer.param_groups[0]['lr']}!\")"
   ]
  }
 ],
 "metadata": {
  "kernelspec": {
   "display_name": "Python 3",
   "language": "python",
   "name": "python3"
  },
  "language_info": {
   "codemirror_mode": {
    "name": "ipython",
    "version": 3
   },
   "file_extension": ".py",
   "mimetype": "text/x-python",
   "name": "python",
   "nbconvert_exporter": "python",
   "pygments_lexer": "ipython3",
   "version": "3.6.9"
  }
 },
 "nbformat": 4,
 "nbformat_minor": 4
}
